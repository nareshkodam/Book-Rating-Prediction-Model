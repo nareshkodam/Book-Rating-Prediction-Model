{
 "cells": [
  {
   "cell_type": "code",
   "execution_count": 7,
   "id": "6e04d90e",
   "metadata": {},
   "outputs": [],
   "source": [
    "import pandas as pd\n",
    "import numpy as np"
   ]
  },
  {
   "cell_type": "code",
   "execution_count": 8,
   "id": "e597c11c",
   "metadata": {},
   "outputs": [],
   "source": [
    "cols = ['bookID' ,'title',  'authors', 'average_rating', 'isbn', 'isbn13', 'language_code', 'num_pages', 'ratings_count',      \n",
    "        'text_reviews_count', 'publication_date', 'publisher',  'coauthor']\n",
    "df = pd.read_csv('books_data.csv', names=cols, skiprows=1,engine='python', quotechar=',', on_bad_lines='warn')"
   ]
  },
  {
   "cell_type": "code",
   "execution_count": 9,
   "id": "702dc6d5",
   "metadata": {},
   "outputs": [
    {
     "name": "stdout",
     "output_type": "stream",
     "text": [
      "<class 'pandas.core.frame.DataFrame'>\n",
      "RangeIndex: 11127 entries, 0 to 11126\n",
      "Data columns (total 13 columns):\n",
      " #   Column              Non-Null Count  Dtype \n",
      "---  ------              --------------  ----- \n",
      " 0   bookID              11127 non-null  int64 \n",
      " 1   title               11127 non-null  object\n",
      " 2   authors             11127 non-null  object\n",
      " 3   average_rating      11127 non-null  object\n",
      " 4   isbn                11127 non-null  object\n",
      " 5   isbn13              11127 non-null  object\n",
      " 6   language_code       11127 non-null  object\n",
      " 7   num_pages           11127 non-null  object\n",
      " 8   ratings_count       11127 non-null  int64 \n",
      " 9   text_reviews_count  11127 non-null  int64 \n",
      " 10  publication_date    11127 non-null  object\n",
      " 11  publisher           11127 non-null  object\n",
      " 12  coauthor            4 non-null      object\n",
      "dtypes: int64(3), object(10)\n",
      "memory usage: 1.1+ MB\n"
     ]
    }
   ],
   "source": [
    "df.info()"
   ]
  },
  {
   "cell_type": "code",
   "execution_count": null,
   "id": "9e2b1287",
   "metadata": {},
   "outputs": [],
   "source": []
  }
 ],
 "metadata": {
  "kernelspec": {
   "display_name": "Python 3 (ipykernel)",
   "language": "python",
   "name": "python3"
  },
  "language_info": {
   "codemirror_mode": {
    "name": "ipython",
    "version": 3
   },
   "file_extension": ".py",
   "mimetype": "text/x-python",
   "name": "python",
   "nbconvert_exporter": "python",
   "pygments_lexer": "ipython3",
   "version": "3.9.13"
  }
 },
 "nbformat": 4,
 "nbformat_minor": 5
}
