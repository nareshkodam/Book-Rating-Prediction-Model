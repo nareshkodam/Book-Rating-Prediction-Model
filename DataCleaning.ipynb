{
 "cells": [
  {
   "cell_type": "markdown",
   "id": "ce8185d4",
   "metadata": {},
   "source": [
    "## Predict the Average Rating of Books"
   ]
  },
  {
   "cell_type": "markdown",
   "id": "66a56429",
   "metadata": {},
   "source": [
    "In this project, we have worked on a books dataset published by Goodreads. The dataset comprised information/data on the following factors: Book ID, Book title, Authors and Co-Authors, Average rating, ISBN and ISBN 13, Language, Number of pages, Number of ratings count and Text reviews count, Publication date and Publisher.\n",
    "\n",
    "A book lover before purchasing a book may prefer to consider one or more of the above mentioned factors with average rating, author, publisher being the most important ones.\n",
    "\n",
    "With the onset of digital revolution, Goodreads as a platform is very popular amongst book readers. They prefer to look at the average rating and also the reviews provided by others.\n",
    "\n",
    "For book readers like us, alongwith authors, publishers also play an important role. Publishers like Penguin, Harper Collin have always been associated with good books and hence play a very important role in determining the popularity of a book.\n",
    "\n",
    "The objective behind building the model was to predict the average rating of a book based on various factors which play an important role in the determination.\n",
    "\n",
    "This model definitely does not judge the books by their cover but by number of pages, language, publisher and author etc."
   ]
  },
  {
   "cell_type": "markdown",
   "id": "a51e9f1e",
   "metadata": {},
   "source": [
    "## Key Findings from the Data"
   ]
  },
  {
   "cell_type": "markdown",
   "id": "ff8ae792",
   "metadata": {},
   "source": [
    "From the Goodreads books dataset, we seek to find out the following:\n",
    "\n",
    "1. What is average rating for most of the books?\n",
    "2. In which year maximum books were published?\n",
    "3. Does Publication date, number of pages, text reviews count and ratings count really have an impact on the rating of the books?\n",
    "4. Who are the top 20 authors and publishers?\n",
    "5. In which language are most of the books read?\n",
    "\n",
    "Let's dive into the dataset to gain insights and build a model to predict average rating."
   ]
  },
  {
   "cell_type": "markdown",
   "id": "b598c5a1",
   "metadata": {},
   "source": [
    "### 1. Loading Libraries with Installations"
   ]
  },
  {
   "cell_type": "code",
   "execution_count": null,
   "id": "41ba8a7b",
   "metadata": {},
   "outputs": [],
   "source": []
  },
  {
   "cell_type": "code",
   "execution_count": 64,
   "id": "6e04d90e",
   "metadata": {},
   "outputs": [],
   "source": [
    "import pandas as pd\n",
    "import numpy as np\n",
    "import matplotlib.pyplot as plt\n",
    "%matplotlib inline\n",
    "import seaborn as sns"
   ]
  },
  {
   "cell_type": "markdown",
   "id": "54abc461",
   "metadata": {},
   "source": [
    "### 2. Load the Goodreads Books Dataset."
   ]
  },
  {
   "cell_type": "code",
   "execution_count": 39,
   "id": "e597c11c",
   "metadata": {},
   "outputs": [],
   "source": [
    "cols = ['bookID' ,'title',  'authors', 'average_rating', 'isbn', 'isbn13', 'language_code', 'num_pages', 'ratings_count',      \n",
    "        'text_reviews_count', 'publication_date', 'publisher',  'coauthor']\n",
    "df = pd.read_csv('books_data.csv', names=cols, skiprows=1,engine='python', quotechar=',', on_bad_lines='warn')"
   ]
  },
  {
   "cell_type": "markdown",
   "id": "ca1430fc",
   "metadata": {},
   "source": [
    "Note, we have used quoting charcter ',' to prevent quoting issues. The engine is python and it is used when number of columns are variable."
   ]
  },
  {
   "cell_type": "markdown",
   "id": "52693e7a",
   "metadata": {},
   "source": [
    "### 3. Initial Analysis of the Data"
   ]
  },
  {
   "cell_type": "code",
   "execution_count": 40,
   "id": "702dc6d5",
   "metadata": {},
   "outputs": [
    {
     "name": "stdout",
     "output_type": "stream",
     "text": [
      "<class 'pandas.core.frame.DataFrame'>\n",
      "RangeIndex: 11127 entries, 0 to 11126\n",
      "Data columns (total 13 columns):\n",
      " #   Column              Non-Null Count  Dtype \n",
      "---  ------              --------------  ----- \n",
      " 0   bookID              11127 non-null  int64 \n",
      " 1   title               11127 non-null  object\n",
      " 2   authors             11127 non-null  object\n",
      " 3   average_rating      11127 non-null  object\n",
      " 4   isbn                11127 non-null  object\n",
      " 5   isbn13              11127 non-null  object\n",
      " 6   language_code       11127 non-null  object\n",
      " 7   num_pages           11127 non-null  object\n",
      " 8   ratings_count       11127 non-null  int64 \n",
      " 9   text_reviews_count  11127 non-null  int64 \n",
      " 10  publication_date    11127 non-null  object\n",
      " 11  publisher           11127 non-null  object\n",
      " 12  coauthor            4 non-null      object\n",
      "dtypes: int64(3), object(10)\n",
      "memory usage: 1.1+ MB\n"
     ]
    }
   ],
   "source": [
    "df.info()"
   ]
  },
  {
   "cell_type": "markdown",
   "id": "2b09ae52",
   "metadata": {},
   "source": [
    "We have analyzed the datatype of respective columns. All are categorical variables, except book ID, ratings count and text reviews count."
   ]
  },
  {
   "cell_type": "code",
   "execution_count": 41,
   "id": "9e2b1287",
   "metadata": {},
   "outputs": [
    {
     "data": {
      "text/html": [
       "<div>\n",
       "<style scoped>\n",
       "    .dataframe tbody tr th:only-of-type {\n",
       "        vertical-align: middle;\n",
       "    }\n",
       "\n",
       "    .dataframe tbody tr th {\n",
       "        vertical-align: top;\n",
       "    }\n",
       "\n",
       "    .dataframe thead th {\n",
       "        text-align: right;\n",
       "    }\n",
       "</style>\n",
       "<table border=\"1\" class=\"dataframe\">\n",
       "  <thead>\n",
       "    <tr style=\"text-align: right;\">\n",
       "      <th></th>\n",
       "      <th>bookID</th>\n",
       "      <th>title</th>\n",
       "      <th>authors</th>\n",
       "      <th>average_rating</th>\n",
       "      <th>isbn</th>\n",
       "      <th>isbn13</th>\n",
       "      <th>language_code</th>\n",
       "      <th>num_pages</th>\n",
       "      <th>ratings_count</th>\n",
       "      <th>text_reviews_count</th>\n",
       "      <th>publication_date</th>\n",
       "      <th>publisher</th>\n",
       "      <th>coauthor</th>\n",
       "    </tr>\n",
       "  </thead>\n",
       "  <tbody>\n",
       "    <tr>\n",
       "      <th>0</th>\n",
       "      <td>1</td>\n",
       "      <td>Harry Potter and the Half-Blood Prince (Harry ...</td>\n",
       "      <td>J.K. Rowling/Mary GrandPré</td>\n",
       "      <td>4.57</td>\n",
       "      <td>0439785960</td>\n",
       "      <td>9780439785969</td>\n",
       "      <td>eng</td>\n",
       "      <td>652</td>\n",
       "      <td>2095690</td>\n",
       "      <td>27591</td>\n",
       "      <td>9/16/2006</td>\n",
       "      <td>Scholastic Inc.</td>\n",
       "      <td>None</td>\n",
       "    </tr>\n",
       "    <tr>\n",
       "      <th>1</th>\n",
       "      <td>2</td>\n",
       "      <td>Harry Potter and the Order of the Phoenix (Har...</td>\n",
       "      <td>J.K. Rowling/Mary GrandPré</td>\n",
       "      <td>4.49</td>\n",
       "      <td>0439358078</td>\n",
       "      <td>9780439358071</td>\n",
       "      <td>eng</td>\n",
       "      <td>870</td>\n",
       "      <td>2153167</td>\n",
       "      <td>29221</td>\n",
       "      <td>9/1/2004</td>\n",
       "      <td>Scholastic Inc.</td>\n",
       "      <td>None</td>\n",
       "    </tr>\n",
       "    <tr>\n",
       "      <th>2</th>\n",
       "      <td>4</td>\n",
       "      <td>Harry Potter and the Chamber of Secrets (Harry...</td>\n",
       "      <td>J.K. Rowling</td>\n",
       "      <td>4.42</td>\n",
       "      <td>0439554896</td>\n",
       "      <td>9780439554893</td>\n",
       "      <td>eng</td>\n",
       "      <td>352</td>\n",
       "      <td>6333</td>\n",
       "      <td>244</td>\n",
       "      <td>11/1/2003</td>\n",
       "      <td>Scholastic</td>\n",
       "      <td>None</td>\n",
       "    </tr>\n",
       "    <tr>\n",
       "      <th>3</th>\n",
       "      <td>5</td>\n",
       "      <td>Harry Potter and the Prisoner of Azkaban (Harr...</td>\n",
       "      <td>J.K. Rowling/Mary GrandPré</td>\n",
       "      <td>4.56</td>\n",
       "      <td>043965548X</td>\n",
       "      <td>9780439655484</td>\n",
       "      <td>eng</td>\n",
       "      <td>435</td>\n",
       "      <td>2339585</td>\n",
       "      <td>36325</td>\n",
       "      <td>5/1/2004</td>\n",
       "      <td>Scholastic Inc.</td>\n",
       "      <td>None</td>\n",
       "    </tr>\n",
       "    <tr>\n",
       "      <th>4</th>\n",
       "      <td>8</td>\n",
       "      <td>Harry Potter Boxed Set  Books 1-5 (Harry Potte...</td>\n",
       "      <td>J.K. Rowling/Mary GrandPré</td>\n",
       "      <td>4.78</td>\n",
       "      <td>0439682584</td>\n",
       "      <td>9780439682589</td>\n",
       "      <td>eng</td>\n",
       "      <td>2690</td>\n",
       "      <td>41428</td>\n",
       "      <td>164</td>\n",
       "      <td>9/13/2004</td>\n",
       "      <td>Scholastic</td>\n",
       "      <td>None</td>\n",
       "    </tr>\n",
       "  </tbody>\n",
       "</table>\n",
       "</div>"
      ],
      "text/plain": [
       "   bookID                                              title  \\\n",
       "0       1  Harry Potter and the Half-Blood Prince (Harry ...   \n",
       "1       2  Harry Potter and the Order of the Phoenix (Har...   \n",
       "2       4  Harry Potter and the Chamber of Secrets (Harry...   \n",
       "3       5  Harry Potter and the Prisoner of Azkaban (Harr...   \n",
       "4       8  Harry Potter Boxed Set  Books 1-5 (Harry Potte...   \n",
       "\n",
       "                      authors average_rating        isbn         isbn13  \\\n",
       "0  J.K. Rowling/Mary GrandPré           4.57  0439785960  9780439785969   \n",
       "1  J.K. Rowling/Mary GrandPré           4.49  0439358078  9780439358071   \n",
       "2                J.K. Rowling           4.42  0439554896  9780439554893   \n",
       "3  J.K. Rowling/Mary GrandPré           4.56  043965548X  9780439655484   \n",
       "4  J.K. Rowling/Mary GrandPré           4.78  0439682584  9780439682589   \n",
       "\n",
       "  language_code num_pages  ratings_count  text_reviews_count publication_date  \\\n",
       "0           eng       652        2095690               27591        9/16/2006   \n",
       "1           eng       870        2153167               29221         9/1/2004   \n",
       "2           eng       352           6333                 244        11/1/2003   \n",
       "3           eng       435        2339585               36325         5/1/2004   \n",
       "4           eng      2690          41428                 164        9/13/2004   \n",
       "\n",
       "         publisher coauthor  \n",
       "0  Scholastic Inc.     None  \n",
       "1  Scholastic Inc.     None  \n",
       "2       Scholastic     None  \n",
       "3  Scholastic Inc.     None  \n",
       "4       Scholastic     None  "
      ]
     },
     "execution_count": 41,
     "metadata": {},
     "output_type": "execute_result"
    }
   ],
   "source": [
    "# Check the top 5 rows\n",
    "df.head(5)"
   ]
  },
  {
   "cell_type": "code",
   "execution_count": 42,
   "id": "eb8cf605",
   "metadata": {},
   "outputs": [
    {
     "data": {
      "text/html": [
       "<div>\n",
       "<style scoped>\n",
       "    .dataframe tbody tr th:only-of-type {\n",
       "        vertical-align: middle;\n",
       "    }\n",
       "\n",
       "    .dataframe tbody tr th {\n",
       "        vertical-align: top;\n",
       "    }\n",
       "\n",
       "    .dataframe thead th {\n",
       "        text-align: right;\n",
       "    }\n",
       "</style>\n",
       "<table border=\"1\" class=\"dataframe\">\n",
       "  <thead>\n",
       "    <tr style=\"text-align: right;\">\n",
       "      <th></th>\n",
       "      <th>bookID</th>\n",
       "      <th>ratings_count</th>\n",
       "      <th>text_reviews_count</th>\n",
       "    </tr>\n",
       "  </thead>\n",
       "  <tbody>\n",
       "    <tr>\n",
       "      <th>count</th>\n",
       "      <td>11,127.00</td>\n",
       "      <td>11,127.00</td>\n",
       "      <td>11,127.00</td>\n",
       "    </tr>\n",
       "    <tr>\n",
       "      <th>mean</th>\n",
       "      <td>21,310.94</td>\n",
       "      <td>17,936.49</td>\n",
       "      <td>541.86</td>\n",
       "    </tr>\n",
       "    <tr>\n",
       "      <th>std</th>\n",
       "      <td>13,093.36</td>\n",
       "      <td>112,479.43</td>\n",
       "      <td>2,576.17</td>\n",
       "    </tr>\n",
       "    <tr>\n",
       "      <th>min</th>\n",
       "      <td>1.00</td>\n",
       "      <td>0.00</td>\n",
       "      <td>0.00</td>\n",
       "    </tr>\n",
       "    <tr>\n",
       "      <th>25%</th>\n",
       "      <td>10,287.00</td>\n",
       "      <td>104.00</td>\n",
       "      <td>9.00</td>\n",
       "    </tr>\n",
       "    <tr>\n",
       "      <th>50%</th>\n",
       "      <td>20,287.00</td>\n",
       "      <td>745.00</td>\n",
       "      <td>47.00</td>\n",
       "    </tr>\n",
       "    <tr>\n",
       "      <th>75%</th>\n",
       "      <td>32,104.50</td>\n",
       "      <td>4,993.50</td>\n",
       "      <td>237.50</td>\n",
       "    </tr>\n",
       "    <tr>\n",
       "      <th>max</th>\n",
       "      <td>45,641.00</td>\n",
       "      <td>4,597,666.00</td>\n",
       "      <td>94,265.00</td>\n",
       "    </tr>\n",
       "  </tbody>\n",
       "</table>\n",
       "</div>"
      ],
      "text/plain": [
       "          bookID ratings_count text_reviews_count\n",
       "count  11,127.00     11,127.00          11,127.00\n",
       "mean   21,310.94     17,936.49             541.86\n",
       "std    13,093.36    112,479.43           2,576.17\n",
       "min         1.00          0.00               0.00\n",
       "25%    10,287.00        104.00               9.00\n",
       "50%    20,287.00        745.00              47.00\n",
       "75%    32,104.50      4,993.50             237.50\n",
       "max    45,641.00  4,597,666.00          94,265.00"
      ]
     },
     "execution_count": 42,
     "metadata": {},
     "output_type": "execute_result"
    }
   ],
   "source": [
    "#Summary Statistics - Non-Categorical\n",
    "df.describe().applymap('{:,.2f}'.format)"
   ]
  },
  {
   "cell_type": "markdown",
   "id": "e81a5c31",
   "metadata": {},
   "source": [
    "Here, we analyze the summary statistics of only Quantitative/Non-Categorical variables"
   ]
  },
  {
   "cell_type": "code",
   "execution_count": 43,
   "id": "16180bb5",
   "metadata": {},
   "outputs": [
    {
     "data": {
      "text/html": [
       "<div>\n",
       "<style scoped>\n",
       "    .dataframe tbody tr th:only-of-type {\n",
       "        vertical-align: middle;\n",
       "    }\n",
       "\n",
       "    .dataframe tbody tr th {\n",
       "        vertical-align: top;\n",
       "    }\n",
       "\n",
       "    .dataframe thead th {\n",
       "        text-align: right;\n",
       "    }\n",
       "</style>\n",
       "<table border=\"1\" class=\"dataframe\">\n",
       "  <thead>\n",
       "    <tr style=\"text-align: right;\">\n",
       "      <th></th>\n",
       "      <th>title</th>\n",
       "      <th>authors</th>\n",
       "      <th>average_rating</th>\n",
       "      <th>isbn</th>\n",
       "      <th>isbn13</th>\n",
       "      <th>language_code</th>\n",
       "      <th>num_pages</th>\n",
       "      <th>publication_date</th>\n",
       "      <th>publisher</th>\n",
       "      <th>coauthor</th>\n",
       "    </tr>\n",
       "  </thead>\n",
       "  <tbody>\n",
       "    <tr>\n",
       "      <th>count</th>\n",
       "      <td>11127</td>\n",
       "      <td>11127</td>\n",
       "      <td>11127</td>\n",
       "      <td>11127</td>\n",
       "      <td>11127</td>\n",
       "      <td>11127</td>\n",
       "      <td>11127</td>\n",
       "      <td>11127</td>\n",
       "      <td>11127</td>\n",
       "      <td>4</td>\n",
       "    </tr>\n",
       "    <tr>\n",
       "      <th>unique</th>\n",
       "      <td>10352</td>\n",
       "      <td>6643</td>\n",
       "      <td>213</td>\n",
       "      <td>11126</td>\n",
       "      <td>11127</td>\n",
       "      <td>31</td>\n",
       "      <td>999</td>\n",
       "      <td>3682</td>\n",
       "      <td>2295</td>\n",
       "      <td>4</td>\n",
       "    </tr>\n",
       "    <tr>\n",
       "      <th>top</th>\n",
       "      <td>The Brothers Karamazov</td>\n",
       "      <td>Stephen King</td>\n",
       "      <td>4.00</td>\n",
       "      <td>3.58</td>\n",
       "      <td>9780439785969</td>\n",
       "      <td>eng</td>\n",
       "      <td>288</td>\n",
       "      <td>10/1/2005</td>\n",
       "      <td>Vintage</td>\n",
       "      <td>Harvard University Press</td>\n",
       "    </tr>\n",
       "    <tr>\n",
       "      <th>freq</th>\n",
       "      <td>9</td>\n",
       "      <td>40</td>\n",
       "      <td>219</td>\n",
       "      <td>2</td>\n",
       "      <td>1</td>\n",
       "      <td>8908</td>\n",
       "      <td>230</td>\n",
       "      <td>56</td>\n",
       "      <td>318</td>\n",
       "      <td>1</td>\n",
       "    </tr>\n",
       "  </tbody>\n",
       "</table>\n",
       "</div>"
      ],
      "text/plain": [
       "                         title       authors average_rating   isbn  \\\n",
       "count                    11127         11127          11127  11127   \n",
       "unique                   10352          6643            213  11126   \n",
       "top     The Brothers Karamazov  Stephen King           4.00   3.58   \n",
       "freq                         9            40            219      2   \n",
       "\n",
       "               isbn13 language_code num_pages publication_date publisher  \\\n",
       "count           11127         11127     11127            11127     11127   \n",
       "unique          11127            31       999             3682      2295   \n",
       "top     9780439785969           eng       288        10/1/2005   Vintage   \n",
       "freq                1          8908       230               56       318   \n",
       "\n",
       "                        coauthor  \n",
       "count                          4  \n",
       "unique                         4  \n",
       "top     Harvard University Press  \n",
       "freq                           1  "
      ]
     },
     "execution_count": 43,
     "metadata": {},
     "output_type": "execute_result"
    }
   ],
   "source": [
    "#Summary Statistics - Categorical\n",
    "df.describe(include='object')"
   ]
  },
  {
   "cell_type": "markdown",
   "id": "9bdcaada",
   "metadata": {},
   "source": [
    "Here, we analyze the summary statistics of only Qualitative/Categorical variables."
   ]
  },
  {
   "cell_type": "markdown",
   "id": "686c1aed",
   "metadata": {},
   "source": [
    "The dataset comprises 11127 rows. We observe that no columns have missing data. But, the column named co-author has only 4 rows. In the following section, we will deep dive into the co-author column."
   ]
  },
  {
   "cell_type": "markdown",
   "id": "47a1ef0c",
   "metadata": {},
   "source": [
    "### 4. Data Cleaning"
   ]
  },
  {
   "cell_type": "markdown",
   "id": "00ffa9c3",
   "metadata": {},
   "source": [
    "The dataset comprises 13 columns. But we notice, the 13th column 'Co-Author' has only 4 rows whereas all other columns have 11127 rows. Let's examine further."
   ]
  },
  {
   "cell_type": "code",
   "execution_count": 44,
   "id": "bea3fcd2",
   "metadata": {},
   "outputs": [],
   "source": [
    "dirty = df.loc[~df['coauthor'].isnull(), : ]"
   ]
  },
  {
   "cell_type": "code",
   "execution_count": 45,
   "id": "7d0c2653",
   "metadata": {},
   "outputs": [
    {
     "data": {
      "text/html": [
       "<div>\n",
       "<style scoped>\n",
       "    .dataframe tbody tr th:only-of-type {\n",
       "        vertical-align: middle;\n",
       "    }\n",
       "\n",
       "    .dataframe tbody tr th {\n",
       "        vertical-align: top;\n",
       "    }\n",
       "\n",
       "    .dataframe thead th {\n",
       "        text-align: right;\n",
       "    }\n",
       "</style>\n",
       "<table border=\"1\" class=\"dataframe\">\n",
       "  <thead>\n",
       "    <tr style=\"text-align: right;\">\n",
       "      <th></th>\n",
       "      <th>bookID</th>\n",
       "      <th>title</th>\n",
       "      <th>authors</th>\n",
       "      <th>average_rating</th>\n",
       "      <th>isbn</th>\n",
       "      <th>isbn13</th>\n",
       "      <th>language_code</th>\n",
       "      <th>num_pages</th>\n",
       "      <th>ratings_count</th>\n",
       "      <th>text_reviews_count</th>\n",
       "      <th>publication_date</th>\n",
       "      <th>publisher</th>\n",
       "      <th>coauthor</th>\n",
       "    </tr>\n",
       "  </thead>\n",
       "  <tbody>\n",
       "    <tr>\n",
       "      <th>3348</th>\n",
       "      <td>12224</td>\n",
       "      <td>Streetcar Suburbs: The Process of Growth in Bo...</td>\n",
       "      <td>Sam Bass Warner</td>\n",
       "      <td>Jr./Sam B. Warner</td>\n",
       "      <td>3.58</td>\n",
       "      <td>0674842111</td>\n",
       "      <td>9780674842113</td>\n",
       "      <td>en-US</td>\n",
       "      <td>236</td>\n",
       "      <td>61</td>\n",
       "      <td>6</td>\n",
       "      <td>4/20/2004</td>\n",
       "      <td>Harvard University Press</td>\n",
       "    </tr>\n",
       "    <tr>\n",
       "      <th>4702</th>\n",
       "      <td>16914</td>\n",
       "      <td>The Tolkien Fan's Medieval Reader</td>\n",
       "      <td>David E. Smith (Turgon of TheOneRing.net</td>\n",
       "      <td>one of the founding members of this Tolkien w...</td>\n",
       "      <td>3.58</td>\n",
       "      <td>1593600119</td>\n",
       "      <td>9781593600112</td>\n",
       "      <td>eng</td>\n",
       "      <td>400</td>\n",
       "      <td>26</td>\n",
       "      <td>4</td>\n",
       "      <td>4/6/2004</td>\n",
       "      <td>Cold Spring Press\\t</td>\n",
       "    </tr>\n",
       "    <tr>\n",
       "      <th>5877</th>\n",
       "      <td>22128</td>\n",
       "      <td>Patriots (The Coming Collapse)</td>\n",
       "      <td>James Wesley</td>\n",
       "      <td>Rawles</td>\n",
       "      <td>3.63</td>\n",
       "      <td>156384155X</td>\n",
       "      <td>9781563841552</td>\n",
       "      <td>eng</td>\n",
       "      <td>342</td>\n",
       "      <td>38</td>\n",
       "      <td>4</td>\n",
       "      <td>1/15/1999</td>\n",
       "      <td>Huntington House Publishers</td>\n",
       "    </tr>\n",
       "    <tr>\n",
       "      <th>8979</th>\n",
       "      <td>34889</td>\n",
       "      <td>Brown's Star Atlas: Showing All The Bright Sta...</td>\n",
       "      <td>Brown</td>\n",
       "      <td>Son &amp; Ferguson</td>\n",
       "      <td>0.00</td>\n",
       "      <td>0851742718</td>\n",
       "      <td>9780851742717</td>\n",
       "      <td>eng</td>\n",
       "      <td>49</td>\n",
       "      <td>0</td>\n",
       "      <td>0</td>\n",
       "      <td>5/1/1977</td>\n",
       "      <td>Brown Son &amp; Ferguson Ltd.</td>\n",
       "    </tr>\n",
       "  </tbody>\n",
       "</table>\n",
       "</div>"
      ],
      "text/plain": [
       "      bookID                                              title  \\\n",
       "3348   12224  Streetcar Suburbs: The Process of Growth in Bo...   \n",
       "4702   16914                  The Tolkien Fan's Medieval Reader   \n",
       "5877   22128                     Patriots (The Coming Collapse)   \n",
       "8979   34889  Brown's Star Atlas: Showing All The Bright Sta...   \n",
       "\n",
       "                                       authors  \\\n",
       "3348                           Sam Bass Warner   \n",
       "4702  David E. Smith (Turgon of TheOneRing.net   \n",
       "5877                              James Wesley   \n",
       "8979                                     Brown   \n",
       "\n",
       "                                         average_rating  isbn      isbn13  \\\n",
       "3348                                  Jr./Sam B. Warner  3.58  0674842111   \n",
       "4702   one of the founding members of this Tolkien w...  3.58  1593600119   \n",
       "5877                                             Rawles  3.63  156384155X   \n",
       "8979                                     Son & Ferguson  0.00  0851742718   \n",
       "\n",
       "      language_code num_pages  ratings_count  text_reviews_count  \\\n",
       "3348  9780674842113     en-US            236                  61   \n",
       "4702  9781593600112       eng            400                  26   \n",
       "5877  9781563841552       eng            342                  38   \n",
       "8979  9780851742717       eng             49                   0   \n",
       "\n",
       "     publication_date  publisher                     coauthor  \n",
       "3348                6  4/20/2004     Harvard University Press  \n",
       "4702                4   4/6/2004          Cold Spring Press\\t  \n",
       "5877                4  1/15/1999  Huntington House Publishers  \n",
       "8979                0   5/1/1977    Brown Son & Ferguson Ltd.  "
      ]
     },
     "execution_count": 45,
     "metadata": {},
     "output_type": "execute_result"
    }
   ],
   "source": [
    "dirty"
   ]
  },
  {
   "cell_type": "markdown",
   "id": "b58e59bf",
   "metadata": {},
   "source": [
    "The average rating for these four rows is authors' name."
   ]
  },
  {
   "cell_type": "code",
   "execution_count": 46,
   "id": "afee3cc0",
   "metadata": {},
   "outputs": [],
   "source": [
    "coauthor = dirty.loc[:, 'average_rating']\n",
    "coauthor = coauthor.rename(\"author2\")"
   ]
  },
  {
   "cell_type": "markdown",
   "id": "2e3d7e80",
   "metadata": {},
   "source": [
    "We will shift every other column to the left and we call this right side of data frame. "
   ]
  },
  {
   "cell_type": "code",
   "execution_count": 47,
   "id": "3631f734",
   "metadata": {},
   "outputs": [],
   "source": [
    "right = dirty.loc[:, 'average_rating':'coauthor'].shift(periods=-1, axis=1)"
   ]
  },
  {
   "cell_type": "markdown",
   "id": "8c7ea3c9",
   "metadata": {},
   "source": [
    "All the other columns before author and taken as left. "
   ]
  },
  {
   "cell_type": "code",
   "execution_count": 48,
   "id": "eb14fe96",
   "metadata": {},
   "outputs": [],
   "source": [
    "left = dirty.loc[:, :'authors']"
   ]
  },
  {
   "cell_type": "markdown",
   "id": "e0b349ab",
   "metadata": {},
   "source": [
    "We will merge the co author with author.  "
   ]
  },
  {
   "cell_type": "code",
   "execution_count": 49,
   "id": "85b4d7b6",
   "metadata": {},
   "outputs": [],
   "source": [
    "left['authors'] = left['authors'] + coauthor"
   ]
  },
  {
   "cell_type": "markdown",
   "id": "44b72f05",
   "metadata": {},
   "source": [
    "The left side will look like this. "
   ]
  },
  {
   "cell_type": "code",
   "execution_count": 50,
   "id": "3d40755e",
   "metadata": {},
   "outputs": [
    {
     "data": {
      "text/html": [
       "<div>\n",
       "<style scoped>\n",
       "    .dataframe tbody tr th:only-of-type {\n",
       "        vertical-align: middle;\n",
       "    }\n",
       "\n",
       "    .dataframe tbody tr th {\n",
       "        vertical-align: top;\n",
       "    }\n",
       "\n",
       "    .dataframe thead th {\n",
       "        text-align: right;\n",
       "    }\n",
       "</style>\n",
       "<table border=\"1\" class=\"dataframe\">\n",
       "  <thead>\n",
       "    <tr style=\"text-align: right;\">\n",
       "      <th></th>\n",
       "      <th>bookID</th>\n",
       "      <th>title</th>\n",
       "      <th>authors</th>\n",
       "    </tr>\n",
       "  </thead>\n",
       "  <tbody>\n",
       "    <tr>\n",
       "      <th>3348</th>\n",
       "      <td>12224</td>\n",
       "      <td>Streetcar Suburbs: The Process of Growth in Bo...</td>\n",
       "      <td>Sam Bass Warner Jr./Sam B. Warner</td>\n",
       "    </tr>\n",
       "    <tr>\n",
       "      <th>4702</th>\n",
       "      <td>16914</td>\n",
       "      <td>The Tolkien Fan's Medieval Reader</td>\n",
       "      <td>David E. Smith (Turgon of TheOneRing.net one o...</td>\n",
       "    </tr>\n",
       "    <tr>\n",
       "      <th>5877</th>\n",
       "      <td>22128</td>\n",
       "      <td>Patriots (The Coming Collapse)</td>\n",
       "      <td>James Wesley Rawles</td>\n",
       "    </tr>\n",
       "    <tr>\n",
       "      <th>8979</th>\n",
       "      <td>34889</td>\n",
       "      <td>Brown's Star Atlas: Showing All The Bright Sta...</td>\n",
       "      <td>Brown Son &amp; Ferguson</td>\n",
       "    </tr>\n",
       "  </tbody>\n",
       "</table>\n",
       "</div>"
      ],
      "text/plain": [
       "      bookID                                              title  \\\n",
       "3348   12224  Streetcar Suburbs: The Process of Growth in Bo...   \n",
       "4702   16914                  The Tolkien Fan's Medieval Reader   \n",
       "5877   22128                     Patriots (The Coming Collapse)   \n",
       "8979   34889  Brown's Star Atlas: Showing All The Bright Sta...   \n",
       "\n",
       "                                                authors  \n",
       "3348                  Sam Bass Warner Jr./Sam B. Warner  \n",
       "4702  David E. Smith (Turgon of TheOneRing.net one o...  \n",
       "5877                                James Wesley Rawles  \n",
       "8979                               Brown Son & Ferguson  "
      ]
     },
     "execution_count": 50,
     "metadata": {},
     "output_type": "execute_result"
    }
   ],
   "source": [
    "left"
   ]
  },
  {
   "cell_type": "markdown",
   "id": "5119c406",
   "metadata": {},
   "source": [
    "The Right side"
   ]
  },
  {
   "cell_type": "code",
   "execution_count": 51,
   "id": "225eca4c",
   "metadata": {},
   "outputs": [
    {
     "data": {
      "text/html": [
       "<div>\n",
       "<style scoped>\n",
       "    .dataframe tbody tr th:only-of-type {\n",
       "        vertical-align: middle;\n",
       "    }\n",
       "\n",
       "    .dataframe tbody tr th {\n",
       "        vertical-align: top;\n",
       "    }\n",
       "\n",
       "    .dataframe thead th {\n",
       "        text-align: right;\n",
       "    }\n",
       "</style>\n",
       "<table border=\"1\" class=\"dataframe\">\n",
       "  <thead>\n",
       "    <tr style=\"text-align: right;\">\n",
       "      <th></th>\n",
       "      <th>average_rating</th>\n",
       "      <th>isbn</th>\n",
       "      <th>isbn13</th>\n",
       "      <th>language_code</th>\n",
       "      <th>num_pages</th>\n",
       "      <th>ratings_count</th>\n",
       "      <th>text_reviews_count</th>\n",
       "      <th>publication_date</th>\n",
       "      <th>publisher</th>\n",
       "      <th>coauthor</th>\n",
       "    </tr>\n",
       "  </thead>\n",
       "  <tbody>\n",
       "    <tr>\n",
       "      <th>3348</th>\n",
       "      <td>3.58</td>\n",
       "      <td>0674842111</td>\n",
       "      <td>9780674842113</td>\n",
       "      <td>en-US</td>\n",
       "      <td>236</td>\n",
       "      <td>61</td>\n",
       "      <td>6</td>\n",
       "      <td>4/20/2004</td>\n",
       "      <td>Harvard University Press</td>\n",
       "      <td>NaN</td>\n",
       "    </tr>\n",
       "    <tr>\n",
       "      <th>4702</th>\n",
       "      <td>3.58</td>\n",
       "      <td>1593600119</td>\n",
       "      <td>9781593600112</td>\n",
       "      <td>eng</td>\n",
       "      <td>400</td>\n",
       "      <td>26</td>\n",
       "      <td>4</td>\n",
       "      <td>4/6/2004</td>\n",
       "      <td>Cold Spring Press\\t</td>\n",
       "      <td>NaN</td>\n",
       "    </tr>\n",
       "    <tr>\n",
       "      <th>5877</th>\n",
       "      <td>3.63</td>\n",
       "      <td>156384155X</td>\n",
       "      <td>9781563841552</td>\n",
       "      <td>eng</td>\n",
       "      <td>342</td>\n",
       "      <td>38</td>\n",
       "      <td>4</td>\n",
       "      <td>1/15/1999</td>\n",
       "      <td>Huntington House Publishers</td>\n",
       "      <td>NaN</td>\n",
       "    </tr>\n",
       "    <tr>\n",
       "      <th>8979</th>\n",
       "      <td>0.00</td>\n",
       "      <td>0851742718</td>\n",
       "      <td>9780851742717</td>\n",
       "      <td>eng</td>\n",
       "      <td>49</td>\n",
       "      <td>0</td>\n",
       "      <td>0</td>\n",
       "      <td>5/1/1977</td>\n",
       "      <td>Brown Son &amp; Ferguson Ltd.</td>\n",
       "      <td>NaN</td>\n",
       "    </tr>\n",
       "  </tbody>\n",
       "</table>\n",
       "</div>"
      ],
      "text/plain": [
       "     average_rating        isbn         isbn13 language_code  num_pages  \\\n",
       "3348           3.58  0674842111  9780674842113         en-US        236   \n",
       "4702           3.58  1593600119  9781593600112           eng        400   \n",
       "5877           3.63  156384155X  9781563841552           eng        342   \n",
       "8979           0.00  0851742718  9780851742717           eng         49   \n",
       "\n",
       "      ratings_count text_reviews_count publication_date  \\\n",
       "3348             61                  6        4/20/2004   \n",
       "4702             26                  4         4/6/2004   \n",
       "5877             38                  4        1/15/1999   \n",
       "8979              0                  0         5/1/1977   \n",
       "\n",
       "                        publisher coauthor  \n",
       "3348     Harvard University Press      NaN  \n",
       "4702          Cold Spring Press\\t      NaN  \n",
       "5877  Huntington House Publishers      NaN  \n",
       "8979    Brown Son & Ferguson Ltd.      NaN  "
      ]
     },
     "execution_count": 51,
     "metadata": {},
     "output_type": "execute_result"
    }
   ],
   "source": [
    "right"
   ]
  },
  {
   "cell_type": "markdown",
   "id": "b0ef3910",
   "metadata": {},
   "source": [
    "We will combine them. and call it clean. "
   ]
  },
  {
   "cell_type": "code",
   "execution_count": 52,
   "id": "324a9494",
   "metadata": {},
   "outputs": [],
   "source": [
    "clean = pd.concat([left,  right, coauthor], axis=1)"
   ]
  },
  {
   "cell_type": "code",
   "execution_count": 53,
   "id": "50926fd2",
   "metadata": {},
   "outputs": [],
   "source": [
    "clean = clean.drop(columns= ['coauthor'])"
   ]
  },
  {
   "cell_type": "code",
   "execution_count": 54,
   "id": "74cc4ca4",
   "metadata": {},
   "outputs": [
    {
     "data": {
      "text/html": [
       "<div>\n",
       "<style scoped>\n",
       "    .dataframe tbody tr th:only-of-type {\n",
       "        vertical-align: middle;\n",
       "    }\n",
       "\n",
       "    .dataframe tbody tr th {\n",
       "        vertical-align: top;\n",
       "    }\n",
       "\n",
       "    .dataframe thead th {\n",
       "        text-align: right;\n",
       "    }\n",
       "</style>\n",
       "<table border=\"1\" class=\"dataframe\">\n",
       "  <thead>\n",
       "    <tr style=\"text-align: right;\">\n",
       "      <th></th>\n",
       "      <th>bookID</th>\n",
       "      <th>title</th>\n",
       "      <th>authors</th>\n",
       "      <th>average_rating</th>\n",
       "      <th>isbn</th>\n",
       "      <th>isbn13</th>\n",
       "      <th>language_code</th>\n",
       "      <th>num_pages</th>\n",
       "      <th>ratings_count</th>\n",
       "      <th>text_reviews_count</th>\n",
       "      <th>publication_date</th>\n",
       "      <th>publisher</th>\n",
       "      <th>author2</th>\n",
       "    </tr>\n",
       "  </thead>\n",
       "  <tbody>\n",
       "    <tr>\n",
       "      <th>3348</th>\n",
       "      <td>12224</td>\n",
       "      <td>Streetcar Suburbs: The Process of Growth in Bo...</td>\n",
       "      <td>Sam Bass Warner Jr./Sam B. Warner</td>\n",
       "      <td>3.58</td>\n",
       "      <td>0674842111</td>\n",
       "      <td>9780674842113</td>\n",
       "      <td>en-US</td>\n",
       "      <td>236</td>\n",
       "      <td>61</td>\n",
       "      <td>6</td>\n",
       "      <td>4/20/2004</td>\n",
       "      <td>Harvard University Press</td>\n",
       "      <td>Jr./Sam B. Warner</td>\n",
       "    </tr>\n",
       "    <tr>\n",
       "      <th>4702</th>\n",
       "      <td>16914</td>\n",
       "      <td>The Tolkien Fan's Medieval Reader</td>\n",
       "      <td>David E. Smith (Turgon of TheOneRing.net one o...</td>\n",
       "      <td>3.58</td>\n",
       "      <td>1593600119</td>\n",
       "      <td>9781593600112</td>\n",
       "      <td>eng</td>\n",
       "      <td>400</td>\n",
       "      <td>26</td>\n",
       "      <td>4</td>\n",
       "      <td>4/6/2004</td>\n",
       "      <td>Cold Spring Press\\t</td>\n",
       "      <td>one of the founding members of this Tolkien w...</td>\n",
       "    </tr>\n",
       "    <tr>\n",
       "      <th>5877</th>\n",
       "      <td>22128</td>\n",
       "      <td>Patriots (The Coming Collapse)</td>\n",
       "      <td>James Wesley Rawles</td>\n",
       "      <td>3.63</td>\n",
       "      <td>156384155X</td>\n",
       "      <td>9781563841552</td>\n",
       "      <td>eng</td>\n",
       "      <td>342</td>\n",
       "      <td>38</td>\n",
       "      <td>4</td>\n",
       "      <td>1/15/1999</td>\n",
       "      <td>Huntington House Publishers</td>\n",
       "      <td>Rawles</td>\n",
       "    </tr>\n",
       "    <tr>\n",
       "      <th>8979</th>\n",
       "      <td>34889</td>\n",
       "      <td>Brown's Star Atlas: Showing All The Bright Sta...</td>\n",
       "      <td>Brown Son &amp; Ferguson</td>\n",
       "      <td>0.00</td>\n",
       "      <td>0851742718</td>\n",
       "      <td>9780851742717</td>\n",
       "      <td>eng</td>\n",
       "      <td>49</td>\n",
       "      <td>0</td>\n",
       "      <td>0</td>\n",
       "      <td>5/1/1977</td>\n",
       "      <td>Brown Son &amp; Ferguson Ltd.</td>\n",
       "      <td>Son &amp; Ferguson</td>\n",
       "    </tr>\n",
       "  </tbody>\n",
       "</table>\n",
       "</div>"
      ],
      "text/plain": [
       "      bookID                                              title  \\\n",
       "3348   12224  Streetcar Suburbs: The Process of Growth in Bo...   \n",
       "4702   16914                  The Tolkien Fan's Medieval Reader   \n",
       "5877   22128                     Patriots (The Coming Collapse)   \n",
       "8979   34889  Brown's Star Atlas: Showing All The Bright Sta...   \n",
       "\n",
       "                                                authors average_rating  \\\n",
       "3348                  Sam Bass Warner Jr./Sam B. Warner           3.58   \n",
       "4702  David E. Smith (Turgon of TheOneRing.net one o...           3.58   \n",
       "5877                                James Wesley Rawles           3.63   \n",
       "8979                               Brown Son & Ferguson           0.00   \n",
       "\n",
       "            isbn         isbn13 language_code  num_pages  ratings_count  \\\n",
       "3348  0674842111  9780674842113         en-US        236             61   \n",
       "4702  1593600119  9781593600112           eng        400             26   \n",
       "5877  156384155X  9781563841552           eng        342             38   \n",
       "8979  0851742718  9780851742717           eng         49              0   \n",
       "\n",
       "     text_reviews_count publication_date                    publisher  \\\n",
       "3348                  6        4/20/2004     Harvard University Press   \n",
       "4702                  4         4/6/2004          Cold Spring Press\\t   \n",
       "5877                  4        1/15/1999  Huntington House Publishers   \n",
       "8979                  0         5/1/1977    Brown Son & Ferguson Ltd.   \n",
       "\n",
       "                                                author2  \n",
       "3348                                  Jr./Sam B. Warner  \n",
       "4702   one of the founding members of this Tolkien w...  \n",
       "5877                                             Rawles  \n",
       "8979                                     Son & Ferguson  "
      ]
     },
     "execution_count": 54,
     "metadata": {},
     "output_type": "execute_result"
    }
   ],
   "source": [
    "clean"
   ]
  },
  {
   "cell_type": "markdown",
   "id": "a8502a99",
   "metadata": {},
   "source": [
    "We will replace the dirty rows with this newly created clean data frame. "
   ]
  },
  {
   "cell_type": "code",
   "execution_count": 55,
   "id": "89ef67b3",
   "metadata": {},
   "outputs": [],
   "source": [
    "df.loc[clean.index, :] = clean"
   ]
  },
  {
   "cell_type": "markdown",
   "id": "bf93b680",
   "metadata": {},
   "source": [
    "While examining the dataset, we found out that for the 4 rows under dicussion, there was a shift of data by 1 column. This means that some of the authors had shifted to the 'Average Rating' column. The average ratings for the respective rows had shifted to the 'ISBN' column and so forth. Hence, we had a 13th column which had publishers' name due to this data shift.\n",
    "\n",
    "We have corrected this above and the dataframe 'df' is now clean."
   ]
  },
  {
   "cell_type": "markdown",
   "id": "d25bb027",
   "metadata": {},
   "source": [
    "### 5. Removing the Columns"
   ]
  },
  {
   "cell_type": "markdown",
   "id": "beb20333",
   "metadata": {},
   "source": [
    "We will remove 'coauthor', 'bookID', 'isbn', 'isbn13' as we will not consider them in building the Average Rating Prediction Model."
   ]
  },
  {
   "cell_type": "code",
   "execution_count": 57,
   "id": "79d3a4a7",
   "metadata": {},
   "outputs": [],
   "source": [
    "df = df.drop(columns= ['coauthor', 'bookID', 'isbn', 'isbn13'])"
   ]
  },
  {
   "cell_type": "code",
   "execution_count": 58,
   "id": "dcf61642",
   "metadata": {},
   "outputs": [
    {
     "name": "stdout",
     "output_type": "stream",
     "text": [
      "<class 'pandas.core.frame.DataFrame'>\n",
      "RangeIndex: 11127 entries, 0 to 11126\n",
      "Data columns (total 9 columns):\n",
      " #   Column              Non-Null Count  Dtype \n",
      "---  ------              --------------  ----- \n",
      " 0   title               11127 non-null  object\n",
      " 1   authors             11127 non-null  object\n",
      " 2   average_rating      11127 non-null  object\n",
      " 3   language_code       11127 non-null  object\n",
      " 4   num_pages           11127 non-null  object\n",
      " 5   ratings_count       11127 non-null  int64 \n",
      " 6   text_reviews_count  11127 non-null  object\n",
      " 7   publication_date    11127 non-null  object\n",
      " 8   publisher           11127 non-null  object\n",
      "dtypes: int64(1), object(8)\n",
      "memory usage: 782.5+ KB\n"
     ]
    }
   ],
   "source": [
    "df.info()"
   ]
  },
  {
   "cell_type": "markdown",
   "id": "3b24eb74",
   "metadata": {},
   "source": [
    "### 6. Changing the Data type of Variables"
   ]
  },
  {
   "cell_type": "markdown",
   "id": "b2f08c46",
   "metadata": {},
   "source": [
    "After analysing, we noticed that the datatype of the quantitative/non-categorical variables such as average average_rating, num_pages, text_reviews_count is object. The publication_date which is a date is also object.\n",
    "\n",
    "For building a datset suitable for predictive modelling, we will change the data type of the variables to numeric."
   ]
  },
  {
   "cell_type": "code",
   "execution_count": 60,
   "id": "f843ae8e",
   "metadata": {},
   "outputs": [],
   "source": [
    "#Changing the data type of the variables to Float/Int\n",
    "df['average_rating'] = df['average_rating'].astype(np.float32)\n",
    "df['num_pages'] = df['num_pages'].astype(np.int32)\n",
    "df['ratings_count'] = df['ratings_count'].astype(np.int32)\n",
    "df['text_reviews_count'] = df['text_reviews_count'].astype(np.int32)"
   ]
  },
  {
   "cell_type": "code",
   "execution_count": 61,
   "id": "df3dae8a",
   "metadata": {},
   "outputs": [
    {
     "name": "stdout",
     "output_type": "stream",
     "text": [
      "<class 'pandas.core.frame.DataFrame'>\n",
      "RangeIndex: 11127 entries, 0 to 11126\n",
      "Data columns (total 9 columns):\n",
      " #   Column              Non-Null Count  Dtype  \n",
      "---  ------              --------------  -----  \n",
      " 0   title               11127 non-null  object \n",
      " 1   authors             11127 non-null  object \n",
      " 2   average_rating      11127 non-null  float32\n",
      " 3   language_code       11127 non-null  object \n",
      " 4   num_pages           11127 non-null  int32  \n",
      " 5   ratings_count       11127 non-null  int32  \n",
      " 6   text_reviews_count  11127 non-null  int32  \n",
      " 7   publication_date    11127 non-null  object \n",
      " 8   publisher           11127 non-null  object \n",
      "dtypes: float32(1), int32(3), object(5)\n",
      "memory usage: 608.6+ KB\n"
     ]
    }
   ],
   "source": [
    "df.info()"
   ]
  },
  {
   "cell_type": "markdown",
   "id": "74fcf2e4",
   "metadata": {},
   "source": [
    "Checking if the data is clean and there are no unwanted data and columns"
   ]
  },
  {
   "cell_type": "code",
   "execution_count": 62,
   "id": "eb6fcca5",
   "metadata": {},
   "outputs": [
    {
     "data": {
      "text/plain": [
       "title                 Streetcar Suburbs: The Process of Growth in Bo...\n",
       "authors                               Sam Bass Warner Jr./Sam B. Warner\n",
       "average_rating                                                     3.58\n",
       "language_code                                                     en-US\n",
       "num_pages                                                           236\n",
       "ratings_count                                                        61\n",
       "text_reviews_count                                                    6\n",
       "publication_date                                              4/20/2004\n",
       "publisher                                      Harvard University Press\n",
       "Name: 3348, dtype: object"
      ]
     },
     "execution_count": 62,
     "metadata": {},
     "output_type": "execute_result"
    }
   ],
   "source": [
    "df.iloc[3348, :]"
   ]
  },
  {
   "cell_type": "markdown",
   "id": "f21007f8",
   "metadata": {},
   "source": [
    "### 7. Converting Dates"
   ]
  },
  {
   "cell_type": "markdown",
   "id": "6d61f7d5",
   "metadata": {},
   "source": [
    "In this section, we convert the data type of publication date to datetime as the name of the variable suggests. However, during analysis, it was detected that 2 dates were unfeasible. For example: November and June had 31 days instead of 30. We corrected the respective dates and assumed that it will be the 30th day of the month under consideration."
   ]
  },
  {
   "cell_type": "code",
   "execution_count": null,
   "id": "ff9e53c1",
   "metadata": {},
   "outputs": [],
   "source": []
  }
 ],
 "metadata": {
  "kernelspec": {
   "display_name": "Python 3 (ipykernel)",
   "language": "python",
   "name": "python3"
  },
  "language_info": {
   "codemirror_mode": {
    "name": "ipython",
    "version": 3
   },
   "file_extension": ".py",
   "mimetype": "text/x-python",
   "name": "python",
   "nbconvert_exporter": "python",
   "pygments_lexer": "ipython3",
   "version": "3.9.13"
  }
 },
 "nbformat": 4,
 "nbformat_minor": 5
}
