{
 "cells": [
  {
   "cell_type": "markdown",
   "id": "6cfdbd60",
   "metadata": {},
   "source": [
    "## Predict the Average Rating of Books"
   ]
  },
  {
   "cell_type": "markdown",
   "id": "fb738336",
   "metadata": {},
   "source": [
    "In this project, we have worked on a books dataset published by Goodreads. The dataset comprised information/data on the following factors: Book ID, Book title, Authors and Co-Authors, Average rating, ISBN and ISBN 13, Language, Number of pages, Number of ratings count and Text reviews count, Publication date and Publisher.\n",
    "\n",
    "A book lover before purchasing a book may prefer to consider one or more of the above mentioned factors with average rating, author, publisher being the most important ones.\n",
    "\n",
    "With the onset of digital revolution, Goodreads as a platform is very popular amongst book readers. They prefer to look at the average rating and also the reviews provided by others.\n",
    "\n",
    "For book readers like us, alongwith authors, publishers also play an important role. Publishers like Penguin, Harper Collin have always been associated with good books and hence play a very important role in determining the popularity of a book.\n",
    "\n",
    "The objective behind building the model was to predict the average rating of a book based on various factors which play an important role in the determination.\n",
    "\n",
    "This model definitely does not judge the books by their cover but by number of pages, language, publisher and author etc."
   ]
  },
  {
   "cell_type": "markdown",
   "id": "ee552c7c",
   "metadata": {},
   "source": [
    "## Key Findings from the Data"
   ]
  },
  {
   "cell_type": "markdown",
   "id": "4b748a49",
   "metadata": {},
   "source": [
    "From the Goodreads books dataset, we seek to find out the following:\n",
    "\n",
    "1. What is average rating for most of the books?\n",
    "2. In which year maximum books were published?\n",
    "3. Does Publication date, number of pages, text reviews count and ratings count really have an impact on the rating of the books?\n",
    "4. Who are the top 20 authors and publishers?\n",
    "5. In which language are most of the books read?\n",
    "\n",
    "Let's dive into the dataset to gain insights and build a model to predict average rating."
   ]
  },
  {
   "cell_type": "markdown",
   "id": "ddccf498",
   "metadata": {},
   "source": [
    "### 1. Loading Libraries with Installations"
   ]
  },
  {
   "cell_type": "code",
   "execution_count": null,
   "id": "e6f81fd8",
   "metadata": {},
   "outputs": [],
   "source": []
  },
  {
   "cell_type": "code",
   "execution_count": 64,
   "id": "6e04d90e",
   "metadata": {},
   "outputs": [],
   "source": [
    "import pandas as pd\n",
    "import numpy as np\n",
    "import matplotlib.pyplot as plt\n",
    "%matplotlib inline\n",
    "import seaborn as sns"
   ]
  },
  {
   "cell_type": "markdown",
   "id": "d1d38fa0",
   "metadata": {},
   "source": [
    "### 2. Load the Goodreads Books Dataset."
   ]
  },
  {
   "cell_type": "code",
   "execution_count": 39,
   "id": "e597c11c",
   "metadata": {},
   "outputs": [],
   "source": [
    "cols = ['bookID' ,'title',  'authors', 'average_rating', 'isbn', 'isbn13', 'language_code', 'num_pages', 'ratings_count',      \n",
    "        'text_reviews_count', 'publication_date', 'publisher',  'coauthor']\n",
    "df = pd.read_csv('books_data.csv', names=cols, skiprows=1,engine='python', quotechar=',', on_bad_lines='warn')"
   ]
  },
  {
   "cell_type": "markdown",
   "id": "6bf33ede",
   "metadata": {},
   "source": [
    "Note, we have used quoting charcter ',' to prevent quoting issues. The engine is python and it is used when number of columns are variable."
   ]
  },
  {
   "cell_type": "markdown",
   "id": "5070a5ad",
   "metadata": {},
   "source": [
    "### 3. Initial Analysis of the Data"
   ]
  },
  {
   "cell_type": "code",
   "execution_count": 40,
   "id": "702dc6d5",
   "metadata": {},
   "outputs": [
    {
     "name": "stdout",
     "output_type": "stream",
     "text": [
      "<class 'pandas.core.frame.DataFrame'>\n",
      "RangeIndex: 11127 entries, 0 to 11126\n",
      "Data columns (total 13 columns):\n",
      " #   Column              Non-Null Count  Dtype \n",
      "---  ------              --------------  ----- \n",
      " 0   bookID              11127 non-null  int64 \n",
      " 1   title               11127 non-null  object\n",
      " 2   authors             11127 non-null  object\n",
      " 3   average_rating      11127 non-null  object\n",
      " 4   isbn                11127 non-null  object\n",
      " 5   isbn13              11127 non-null  object\n",
      " 6   language_code       11127 non-null  object\n",
      " 7   num_pages           11127 non-null  object\n",
      " 8   ratings_count       11127 non-null  int64 \n",
      " 9   text_reviews_count  11127 non-null  int64 \n",
      " 10  publication_date    11127 non-null  object\n",
      " 11  publisher           11127 non-null  object\n",
      " 12  coauthor            4 non-null      object\n",
      "dtypes: int64(3), object(10)\n",
      "memory usage: 1.1+ MB\n"
     ]
    }
   ],
   "source": [
    "df.info()"
   ]
  },
  {
   "cell_type": "markdown",
   "id": "11caab98",
   "metadata": {},
   "source": [
    "We have analyzed the datatype of respective columns. All are categorical variables, except book ID, ratings count and text reviews count."
   ]
  },
  {
   "cell_type": "code",
   "execution_count": 41,
   "id": "9e2b1287",
   "metadata": {},
   "outputs": [
    {
     "data": {
      "text/html": [
       "<div>\n",
       "<style scoped>\n",
       "    .dataframe tbody tr th:only-of-type {\n",
       "        vertical-align: middle;\n",
       "    }\n",
       "\n",
       "    .dataframe tbody tr th {\n",
       "        vertical-align: top;\n",
       "    }\n",
       "\n",
       "    .dataframe thead th {\n",
       "        text-align: right;\n",
       "    }\n",
       "</style>\n",
       "<table border=\"1\" class=\"dataframe\">\n",
       "  <thead>\n",
       "    <tr style=\"text-align: right;\">\n",
       "      <th></th>\n",
       "      <th>bookID</th>\n",
       "      <th>title</th>\n",
       "      <th>authors</th>\n",
       "      <th>average_rating</th>\n",
       "      <th>isbn</th>\n",
       "      <th>isbn13</th>\n",
       "      <th>language_code</th>\n",
       "      <th>num_pages</th>\n",
       "      <th>ratings_count</th>\n",
       "      <th>text_reviews_count</th>\n",
       "      <th>publication_date</th>\n",
       "      <th>publisher</th>\n",
       "      <th>coauthor</th>\n",
       "    </tr>\n",
       "  </thead>\n",
       "  <tbody>\n",
       "    <tr>\n",
       "      <th>0</th>\n",
       "      <td>1</td>\n",
       "      <td>Harry Potter and the Half-Blood Prince (Harry ...</td>\n",
       "      <td>J.K. Rowling/Mary GrandPré</td>\n",
       "      <td>4.57</td>\n",
       "      <td>0439785960</td>\n",
       "      <td>9780439785969</td>\n",
       "      <td>eng</td>\n",
       "      <td>652</td>\n",
       "      <td>2095690</td>\n",
       "      <td>27591</td>\n",
       "      <td>9/16/2006</td>\n",
       "      <td>Scholastic Inc.</td>\n",
       "      <td>None</td>\n",
       "    </tr>\n",
       "    <tr>\n",
       "      <th>1</th>\n",
       "      <td>2</td>\n",
       "      <td>Harry Potter and the Order of the Phoenix (Har...</td>\n",
       "      <td>J.K. Rowling/Mary GrandPré</td>\n",
       "      <td>4.49</td>\n",
       "      <td>0439358078</td>\n",
       "      <td>9780439358071</td>\n",
       "      <td>eng</td>\n",
       "      <td>870</td>\n",
       "      <td>2153167</td>\n",
       "      <td>29221</td>\n",
       "      <td>9/1/2004</td>\n",
       "      <td>Scholastic Inc.</td>\n",
       "      <td>None</td>\n",
       "    </tr>\n",
       "    <tr>\n",
       "      <th>2</th>\n",
       "      <td>4</td>\n",
       "      <td>Harry Potter and the Chamber of Secrets (Harry...</td>\n",
       "      <td>J.K. Rowling</td>\n",
       "      <td>4.42</td>\n",
       "      <td>0439554896</td>\n",
       "      <td>9780439554893</td>\n",
       "      <td>eng</td>\n",
       "      <td>352</td>\n",
       "      <td>6333</td>\n",
       "      <td>244</td>\n",
       "      <td>11/1/2003</td>\n",
       "      <td>Scholastic</td>\n",
       "      <td>None</td>\n",
       "    </tr>\n",
       "    <tr>\n",
       "      <th>3</th>\n",
       "      <td>5</td>\n",
       "      <td>Harry Potter and the Prisoner of Azkaban (Harr...</td>\n",
       "      <td>J.K. Rowling/Mary GrandPré</td>\n",
       "      <td>4.56</td>\n",
       "      <td>043965548X</td>\n",
       "      <td>9780439655484</td>\n",
       "      <td>eng</td>\n",
       "      <td>435</td>\n",
       "      <td>2339585</td>\n",
       "      <td>36325</td>\n",
       "      <td>5/1/2004</td>\n",
       "      <td>Scholastic Inc.</td>\n",
       "      <td>None</td>\n",
       "    </tr>\n",
       "    <tr>\n",
       "      <th>4</th>\n",
       "      <td>8</td>\n",
       "      <td>Harry Potter Boxed Set  Books 1-5 (Harry Potte...</td>\n",
       "      <td>J.K. Rowling/Mary GrandPré</td>\n",
       "      <td>4.78</td>\n",
       "      <td>0439682584</td>\n",
       "      <td>9780439682589</td>\n",
       "      <td>eng</td>\n",
       "      <td>2690</td>\n",
       "      <td>41428</td>\n",
       "      <td>164</td>\n",
       "      <td>9/13/2004</td>\n",
       "      <td>Scholastic</td>\n",
       "      <td>None</td>\n",
       "    </tr>\n",
       "  </tbody>\n",
       "</table>\n",
       "</div>"
      ],
      "text/plain": [
       "   bookID                                              title  \\\n",
       "0       1  Harry Potter and the Half-Blood Prince (Harry ...   \n",
       "1       2  Harry Potter and the Order of the Phoenix (Har...   \n",
       "2       4  Harry Potter and the Chamber of Secrets (Harry...   \n",
       "3       5  Harry Potter and the Prisoner of Azkaban (Harr...   \n",
       "4       8  Harry Potter Boxed Set  Books 1-5 (Harry Potte...   \n",
       "\n",
       "                      authors average_rating        isbn         isbn13  \\\n",
       "0  J.K. Rowling/Mary GrandPré           4.57  0439785960  9780439785969   \n",
       "1  J.K. Rowling/Mary GrandPré           4.49  0439358078  9780439358071   \n",
       "2                J.K. Rowling           4.42  0439554896  9780439554893   \n",
       "3  J.K. Rowling/Mary GrandPré           4.56  043965548X  9780439655484   \n",
       "4  J.K. Rowling/Mary GrandPré           4.78  0439682584  9780439682589   \n",
       "\n",
       "  language_code num_pages  ratings_count  text_reviews_count publication_date  \\\n",
       "0           eng       652        2095690               27591        9/16/2006   \n",
       "1           eng       870        2153167               29221         9/1/2004   \n",
       "2           eng       352           6333                 244        11/1/2003   \n",
       "3           eng       435        2339585               36325         5/1/2004   \n",
       "4           eng      2690          41428                 164        9/13/2004   \n",
       "\n",
       "         publisher coauthor  \n",
       "0  Scholastic Inc.     None  \n",
       "1  Scholastic Inc.     None  \n",
       "2       Scholastic     None  \n",
       "3  Scholastic Inc.     None  \n",
       "4       Scholastic     None  "
      ]
     },
     "execution_count": 41,
     "metadata": {},
     "output_type": "execute_result"
    }
   ],
   "source": [
    "# Check the top 5 rows\n",
    "df.head(5)"
   ]
  },
  {
   "cell_type": "code",
   "execution_count": 42,
   "id": "55115a07",
   "metadata": {},
   "outputs": [
    {
     "data": {
      "text/html": [
       "<div>\n",
       "<style scoped>\n",
       "    .dataframe tbody tr th:only-of-type {\n",
       "        vertical-align: middle;\n",
       "    }\n",
       "\n",
       "    .dataframe tbody tr th {\n",
       "        vertical-align: top;\n",
       "    }\n",
       "\n",
       "    .dataframe thead th {\n",
       "        text-align: right;\n",
       "    }\n",
       "</style>\n",
       "<table border=\"1\" class=\"dataframe\">\n",
       "  <thead>\n",
       "    <tr style=\"text-align: right;\">\n",
       "      <th></th>\n",
       "      <th>bookID</th>\n",
       "      <th>ratings_count</th>\n",
       "      <th>text_reviews_count</th>\n",
       "    </tr>\n",
       "  </thead>\n",
       "  <tbody>\n",
       "    <tr>\n",
       "      <th>count</th>\n",
       "      <td>11,127.00</td>\n",
       "      <td>11,127.00</td>\n",
       "      <td>11,127.00</td>\n",
       "    </tr>\n",
       "    <tr>\n",
       "      <th>mean</th>\n",
       "      <td>21,310.94</td>\n",
       "      <td>17,936.49</td>\n",
       "      <td>541.86</td>\n",
       "    </tr>\n",
       "    <tr>\n",
       "      <th>std</th>\n",
       "      <td>13,093.36</td>\n",
       "      <td>112,479.43</td>\n",
       "      <td>2,576.17</td>\n",
       "    </tr>\n",
       "    <tr>\n",
       "      <th>min</th>\n",
       "      <td>1.00</td>\n",
       "      <td>0.00</td>\n",
       "      <td>0.00</td>\n",
       "    </tr>\n",
       "    <tr>\n",
       "      <th>25%</th>\n",
       "      <td>10,287.00</td>\n",
       "      <td>104.00</td>\n",
       "      <td>9.00</td>\n",
       "    </tr>\n",
       "    <tr>\n",
       "      <th>50%</th>\n",
       "      <td>20,287.00</td>\n",
       "      <td>745.00</td>\n",
       "      <td>47.00</td>\n",
       "    </tr>\n",
       "    <tr>\n",
       "      <th>75%</th>\n",
       "      <td>32,104.50</td>\n",
       "      <td>4,993.50</td>\n",
       "      <td>237.50</td>\n",
       "    </tr>\n",
       "    <tr>\n",
       "      <th>max</th>\n",
       "      <td>45,641.00</td>\n",
       "      <td>4,597,666.00</td>\n",
       "      <td>94,265.00</td>\n",
       "    </tr>\n",
       "  </tbody>\n",
       "</table>\n",
       "</div>"
      ],
      "text/plain": [
       "          bookID ratings_count text_reviews_count\n",
       "count  11,127.00     11,127.00          11,127.00\n",
       "mean   21,310.94     17,936.49             541.86\n",
       "std    13,093.36    112,479.43           2,576.17\n",
       "min         1.00          0.00               0.00\n",
       "25%    10,287.00        104.00               9.00\n",
       "50%    20,287.00        745.00              47.00\n",
       "75%    32,104.50      4,993.50             237.50\n",
       "max    45,641.00  4,597,666.00          94,265.00"
      ]
     },
     "execution_count": 42,
     "metadata": {},
     "output_type": "execute_result"
    }
   ],
   "source": [
    "#Summary Statistics - Non-Categorical\n",
    "df.describe().applymap('{:,.2f}'.format)"
   ]
  },
  {
   "cell_type": "markdown",
   "id": "5600a246",
   "metadata": {},
   "source": [
    "Here, we analyze the summary statistics of only Quantitative/Non-Categorical variables"
   ]
  },
  {
   "cell_type": "code",
   "execution_count": 43,
   "id": "514648f5",
   "metadata": {},
   "outputs": [
    {
     "data": {
      "text/html": [
       "<div>\n",
       "<style scoped>\n",
       "    .dataframe tbody tr th:only-of-type {\n",
       "        vertical-align: middle;\n",
       "    }\n",
       "\n",
       "    .dataframe tbody tr th {\n",
       "        vertical-align: top;\n",
       "    }\n",
       "\n",
       "    .dataframe thead th {\n",
       "        text-align: right;\n",
       "    }\n",
       "</style>\n",
       "<table border=\"1\" class=\"dataframe\">\n",
       "  <thead>\n",
       "    <tr style=\"text-align: right;\">\n",
       "      <th></th>\n",
       "      <th>title</th>\n",
       "      <th>authors</th>\n",
       "      <th>average_rating</th>\n",
       "      <th>isbn</th>\n",
       "      <th>isbn13</th>\n",
       "      <th>language_code</th>\n",
       "      <th>num_pages</th>\n",
       "      <th>publication_date</th>\n",
       "      <th>publisher</th>\n",
       "      <th>coauthor</th>\n",
       "    </tr>\n",
       "  </thead>\n",
       "  <tbody>\n",
       "    <tr>\n",
       "      <th>count</th>\n",
       "      <td>11127</td>\n",
       "      <td>11127</td>\n",
       "      <td>11127</td>\n",
       "      <td>11127</td>\n",
       "      <td>11127</td>\n",
       "      <td>11127</td>\n",
       "      <td>11127</td>\n",
       "      <td>11127</td>\n",
       "      <td>11127</td>\n",
       "      <td>4</td>\n",
       "    </tr>\n",
       "    <tr>\n",
       "      <th>unique</th>\n",
       "      <td>10352</td>\n",
       "      <td>6643</td>\n",
       "      <td>213</td>\n",
       "      <td>11126</td>\n",
       "      <td>11127</td>\n",
       "      <td>31</td>\n",
       "      <td>999</td>\n",
       "      <td>3682</td>\n",
       "      <td>2295</td>\n",
       "      <td>4</td>\n",
       "    </tr>\n",
       "    <tr>\n",
       "      <th>top</th>\n",
       "      <td>The Brothers Karamazov</td>\n",
       "      <td>Stephen King</td>\n",
       "      <td>4.00</td>\n",
       "      <td>3.58</td>\n",
       "      <td>9780439785969</td>\n",
       "      <td>eng</td>\n",
       "      <td>288</td>\n",
       "      <td>10/1/2005</td>\n",
       "      <td>Vintage</td>\n",
       "      <td>Harvard University Press</td>\n",
       "    </tr>\n",
       "    <tr>\n",
       "      <th>freq</th>\n",
       "      <td>9</td>\n",
       "      <td>40</td>\n",
       "      <td>219</td>\n",
       "      <td>2</td>\n",
       "      <td>1</td>\n",
       "      <td>8908</td>\n",
       "      <td>230</td>\n",
       "      <td>56</td>\n",
       "      <td>318</td>\n",
       "      <td>1</td>\n",
       "    </tr>\n",
       "  </tbody>\n",
       "</table>\n",
       "</div>"
      ],
      "text/plain": [
       "                         title       authors average_rating   isbn  \\\n",
       "count                    11127         11127          11127  11127   \n",
       "unique                   10352          6643            213  11126   \n",
       "top     The Brothers Karamazov  Stephen King           4.00   3.58   \n",
       "freq                         9            40            219      2   \n",
       "\n",
       "               isbn13 language_code num_pages publication_date publisher  \\\n",
       "count           11127         11127     11127            11127     11127   \n",
       "unique          11127            31       999             3682      2295   \n",
       "top     9780439785969           eng       288        10/1/2005   Vintage   \n",
       "freq                1          8908       230               56       318   \n",
       "\n",
       "                        coauthor  \n",
       "count                          4  \n",
       "unique                         4  \n",
       "top     Harvard University Press  \n",
       "freq                           1  "
      ]
     },
     "execution_count": 43,
     "metadata": {},
     "output_type": "execute_result"
    }
   ],
   "source": [
    "#Summary Statistics - Categorical\n",
    "df.describe(include='object')"
   ]
  },
  {
   "cell_type": "markdown",
   "id": "3da50f25",
   "metadata": {},
   "source": [
    "Here, we analyze the summary statistics of only Qualitative/Categorical variables."
   ]
  },
  {
   "cell_type": "markdown",
   "id": "a82a1d2b",
   "metadata": {},
   "source": [
    "The dataset comprises 11127 rows. We observe that no columns have missing data. But, the column named co-author has only 4 rows. In the following section, we will deep dive into the co-author column."
   ]
  },
  {
   "cell_type": "markdown",
   "id": "d65045fc",
   "metadata": {},
   "source": [
    "### 4. Data Cleaning"
   ]
  },
  {
   "cell_type": "markdown",
   "id": "42bf19df",
   "metadata": {},
   "source": [
    "The dataset comprises 13 columns. But we notice, the 13th column 'Co-Author' has only 4 rows whereas all other columns have 11127 rows. Let's examine further."
   ]
  },
  {
   "cell_type": "code",
   "execution_count": 44,
   "id": "cc6df872",
   "metadata": {},
   "outputs": [],
   "source": [
    "dirty = df.loc[~df['coauthor'].isnull(), : ]"
   ]
  },
  {
   "cell_type": "code",
   "execution_count": 45,
   "id": "ba3dea68",
   "metadata": {},
   "outputs": [
    {
     "data": {
      "text/html": [
       "<div>\n",
       "<style scoped>\n",
       "    .dataframe tbody tr th:only-of-type {\n",
       "        vertical-align: middle;\n",
       "    }\n",
       "\n",
       "    .dataframe tbody tr th {\n",
       "        vertical-align: top;\n",
       "    }\n",
       "\n",
       "    .dataframe thead th {\n",
       "        text-align: right;\n",
       "    }\n",
       "</style>\n",
       "<table border=\"1\" class=\"dataframe\">\n",
       "  <thead>\n",
       "    <tr style=\"text-align: right;\">\n",
       "      <th></th>\n",
       "      <th>bookID</th>\n",
       "      <th>title</th>\n",
       "      <th>authors</th>\n",
       "      <th>average_rating</th>\n",
       "      <th>isbn</th>\n",
       "      <th>isbn13</th>\n",
       "      <th>language_code</th>\n",
       "      <th>num_pages</th>\n",
       "      <th>ratings_count</th>\n",
       "      <th>text_reviews_count</th>\n",
       "      <th>publication_date</th>\n",
       "      <th>publisher</th>\n",
       "      <th>coauthor</th>\n",
       "    </tr>\n",
       "  </thead>\n",
       "  <tbody>\n",
       "    <tr>\n",
       "      <th>3348</th>\n",
       "      <td>12224</td>\n",
       "      <td>Streetcar Suburbs: The Process of Growth in Bo...</td>\n",
       "      <td>Sam Bass Warner</td>\n",
       "      <td>Jr./Sam B. Warner</td>\n",
       "      <td>3.58</td>\n",
       "      <td>0674842111</td>\n",
       "      <td>9780674842113</td>\n",
       "      <td>en-US</td>\n",
       "      <td>236</td>\n",
       "      <td>61</td>\n",
       "      <td>6</td>\n",
       "      <td>4/20/2004</td>\n",
       "      <td>Harvard University Press</td>\n",
       "    </tr>\n",
       "    <tr>\n",
       "      <th>4702</th>\n",
       "      <td>16914</td>\n",
       "      <td>The Tolkien Fan's Medieval Reader</td>\n",
       "      <td>David E. Smith (Turgon of TheOneRing.net</td>\n",
       "      <td>one of the founding members of this Tolkien w...</td>\n",
       "      <td>3.58</td>\n",
       "      <td>1593600119</td>\n",
       "      <td>9781593600112</td>\n",
       "      <td>eng</td>\n",
       "      <td>400</td>\n",
       "      <td>26</td>\n",
       "      <td>4</td>\n",
       "      <td>4/6/2004</td>\n",
       "      <td>Cold Spring Press\\t</td>\n",
       "    </tr>\n",
       "    <tr>\n",
       "      <th>5877</th>\n",
       "      <td>22128</td>\n",
       "      <td>Patriots (The Coming Collapse)</td>\n",
       "      <td>James Wesley</td>\n",
       "      <td>Rawles</td>\n",
       "      <td>3.63</td>\n",
       "      <td>156384155X</td>\n",
       "      <td>9781563841552</td>\n",
       "      <td>eng</td>\n",
       "      <td>342</td>\n",
       "      <td>38</td>\n",
       "      <td>4</td>\n",
       "      <td>1/15/1999</td>\n",
       "      <td>Huntington House Publishers</td>\n",
       "    </tr>\n",
       "    <tr>\n",
       "      <th>8979</th>\n",
       "      <td>34889</td>\n",
       "      <td>Brown's Star Atlas: Showing All The Bright Sta...</td>\n",
       "      <td>Brown</td>\n",
       "      <td>Son &amp; Ferguson</td>\n",
       "      <td>0.00</td>\n",
       "      <td>0851742718</td>\n",
       "      <td>9780851742717</td>\n",
       "      <td>eng</td>\n",
       "      <td>49</td>\n",
       "      <td>0</td>\n",
       "      <td>0</td>\n",
       "      <td>5/1/1977</td>\n",
       "      <td>Brown Son &amp; Ferguson Ltd.</td>\n",
       "    </tr>\n",
       "  </tbody>\n",
       "</table>\n",
       "</div>"
      ],
      "text/plain": [
       "      bookID                                              title  \\\n",
       "3348   12224  Streetcar Suburbs: The Process of Growth in Bo...   \n",
       "4702   16914                  The Tolkien Fan's Medieval Reader   \n",
       "5877   22128                     Patriots (The Coming Collapse)   \n",
       "8979   34889  Brown's Star Atlas: Showing All The Bright Sta...   \n",
       "\n",
       "                                       authors  \\\n",
       "3348                           Sam Bass Warner   \n",
       "4702  David E. Smith (Turgon of TheOneRing.net   \n",
       "5877                              James Wesley   \n",
       "8979                                     Brown   \n",
       "\n",
       "                                         average_rating  isbn      isbn13  \\\n",
       "3348                                  Jr./Sam B. Warner  3.58  0674842111   \n",
       "4702   one of the founding members of this Tolkien w...  3.58  1593600119   \n",
       "5877                                             Rawles  3.63  156384155X   \n",
       "8979                                     Son & Ferguson  0.00  0851742718   \n",
       "\n",
       "      language_code num_pages  ratings_count  text_reviews_count  \\\n",
       "3348  9780674842113     en-US            236                  61   \n",
       "4702  9781593600112       eng            400                  26   \n",
       "5877  9781563841552       eng            342                  38   \n",
       "8979  9780851742717       eng             49                   0   \n",
       "\n",
       "     publication_date  publisher                     coauthor  \n",
       "3348                6  4/20/2004     Harvard University Press  \n",
       "4702                4   4/6/2004          Cold Spring Press\\t  \n",
       "5877                4  1/15/1999  Huntington House Publishers  \n",
       "8979                0   5/1/1977    Brown Son & Ferguson Ltd.  "
      ]
     },
     "execution_count": 45,
     "metadata": {},
     "output_type": "execute_result"
    }
   ],
   "source": [
    "dirty"
   ]
  },
  {
   "cell_type": "markdown",
   "id": "8f59436b",
   "metadata": {},
   "source": [
    "The average rating for these four rows is authors' name."
   ]
  },
  {
   "cell_type": "code",
   "execution_count": 46,
   "id": "ca9168cb",
   "metadata": {},
   "outputs": [],
   "source": [
    "coauthor = dirty.loc[:, 'average_rating']\n",
    "coauthor = coauthor.rename(\"author2\")"
   ]
  },
  {
   "cell_type": "markdown",
   "id": "467932ec",
   "metadata": {},
   "source": [
    "We will shift every other column to the left and we call this right side of data frame. "
   ]
  },
  {
   "cell_type": "code",
   "execution_count": 47,
   "id": "a1390677",
   "metadata": {},
   "outputs": [],
   "source": [
    "right = dirty.loc[:, 'average_rating':'coauthor'].shift(periods=-1, axis=1)"
   ]
  },
  {
   "cell_type": "markdown",
   "id": "c41442c1",
   "metadata": {},
   "source": [
    "All the other columns before author and taken as left. "
   ]
  },
  {
   "cell_type": "code",
   "execution_count": 48,
   "id": "f2c84a34",
   "metadata": {},
   "outputs": [],
   "source": [
    "left = dirty.loc[:, :'authors']"
   ]
  },
  {
   "cell_type": "markdown",
   "id": "2f2821d4",
   "metadata": {},
   "source": [
    "We will merge the co author with author.  "
   ]
  },
  {
   "cell_type": "code",
   "execution_count": 49,
   "id": "28bb070c",
   "metadata": {},
   "outputs": [],
   "source": [
    "left['authors'] = left['authors'] + coauthor"
   ]
  },
  {
   "cell_type": "markdown",
   "id": "82820e60",
   "metadata": {},
   "source": [
    "The left side will look like this. "
   ]
  },
  {
   "cell_type": "code",
   "execution_count": 50,
   "id": "b117145c",
   "metadata": {},
   "outputs": [
    {
     "data": {
      "text/html": [
       "<div>\n",
       "<style scoped>\n",
       "    .dataframe tbody tr th:only-of-type {\n",
       "        vertical-align: middle;\n",
       "    }\n",
       "\n",
       "    .dataframe tbody tr th {\n",
       "        vertical-align: top;\n",
       "    }\n",
       "\n",
       "    .dataframe thead th {\n",
       "        text-align: right;\n",
       "    }\n",
       "</style>\n",
       "<table border=\"1\" class=\"dataframe\">\n",
       "  <thead>\n",
       "    <tr style=\"text-align: right;\">\n",
       "      <th></th>\n",
       "      <th>bookID</th>\n",
       "      <th>title</th>\n",
       "      <th>authors</th>\n",
       "    </tr>\n",
       "  </thead>\n",
       "  <tbody>\n",
       "    <tr>\n",
       "      <th>3348</th>\n",
       "      <td>12224</td>\n",
       "      <td>Streetcar Suburbs: The Process of Growth in Bo...</td>\n",
       "      <td>Sam Bass Warner Jr./Sam B. Warner</td>\n",
       "    </tr>\n",
       "    <tr>\n",
       "      <th>4702</th>\n",
       "      <td>16914</td>\n",
       "      <td>The Tolkien Fan's Medieval Reader</td>\n",
       "      <td>David E. Smith (Turgon of TheOneRing.net one o...</td>\n",
       "    </tr>\n",
       "    <tr>\n",
       "      <th>5877</th>\n",
       "      <td>22128</td>\n",
       "      <td>Patriots (The Coming Collapse)</td>\n",
       "      <td>James Wesley Rawles</td>\n",
       "    </tr>\n",
       "    <tr>\n",
       "      <th>8979</th>\n",
       "      <td>34889</td>\n",
       "      <td>Brown's Star Atlas: Showing All The Bright Sta...</td>\n",
       "      <td>Brown Son &amp; Ferguson</td>\n",
       "    </tr>\n",
       "  </tbody>\n",
       "</table>\n",
       "</div>"
      ],
      "text/plain": [
       "      bookID                                              title  \\\n",
       "3348   12224  Streetcar Suburbs: The Process of Growth in Bo...   \n",
       "4702   16914                  The Tolkien Fan's Medieval Reader   \n",
       "5877   22128                     Patriots (The Coming Collapse)   \n",
       "8979   34889  Brown's Star Atlas: Showing All The Bright Sta...   \n",
       "\n",
       "                                                authors  \n",
       "3348                  Sam Bass Warner Jr./Sam B. Warner  \n",
       "4702  David E. Smith (Turgon of TheOneRing.net one o...  \n",
       "5877                                James Wesley Rawles  \n",
       "8979                               Brown Son & Ferguson  "
      ]
     },
     "execution_count": 50,
     "metadata": {},
     "output_type": "execute_result"
    }
   ],
   "source": [
    "left"
   ]
  },
  {
   "cell_type": "markdown",
   "id": "e14db7bc",
   "metadata": {},
   "source": [
    "The Right side"
   ]
  },
  {
   "cell_type": "code",
   "execution_count": 51,
   "id": "76bc8e2f",
   "metadata": {},
   "outputs": [
    {
     "data": {
      "text/html": [
       "<div>\n",
       "<style scoped>\n",
       "    .dataframe tbody tr th:only-of-type {\n",
       "        vertical-align: middle;\n",
       "    }\n",
       "\n",
       "    .dataframe tbody tr th {\n",
       "        vertical-align: top;\n",
       "    }\n",
       "\n",
       "    .dataframe thead th {\n",
       "        text-align: right;\n",
       "    }\n",
       "</style>\n",
       "<table border=\"1\" class=\"dataframe\">\n",
       "  <thead>\n",
       "    <tr style=\"text-align: right;\">\n",
       "      <th></th>\n",
       "      <th>average_rating</th>\n",
       "      <th>isbn</th>\n",
       "      <th>isbn13</th>\n",
       "      <th>language_code</th>\n",
       "      <th>num_pages</th>\n",
       "      <th>ratings_count</th>\n",
       "      <th>text_reviews_count</th>\n",
       "      <th>publication_date</th>\n",
       "      <th>publisher</th>\n",
       "      <th>coauthor</th>\n",
       "    </tr>\n",
       "  </thead>\n",
       "  <tbody>\n",
       "    <tr>\n",
       "      <th>3348</th>\n",
       "      <td>3.58</td>\n",
       "      <td>0674842111</td>\n",
       "      <td>9780674842113</td>\n",
       "      <td>en-US</td>\n",
       "      <td>236</td>\n",
       "      <td>61</td>\n",
       "      <td>6</td>\n",
       "      <td>4/20/2004</td>\n",
       "      <td>Harvard University Press</td>\n",
       "      <td>NaN</td>\n",
       "    </tr>\n",
       "    <tr>\n",
       "      <th>4702</th>\n",
       "      <td>3.58</td>\n",
       "      <td>1593600119</td>\n",
       "      <td>9781593600112</td>\n",
       "      <td>eng</td>\n",
       "      <td>400</td>\n",
       "      <td>26</td>\n",
       "      <td>4</td>\n",
       "      <td>4/6/2004</td>\n",
       "      <td>Cold Spring Press\\t</td>\n",
       "      <td>NaN</td>\n",
       "    </tr>\n",
       "    <tr>\n",
       "      <th>5877</th>\n",
       "      <td>3.63</td>\n",
       "      <td>156384155X</td>\n",
       "      <td>9781563841552</td>\n",
       "      <td>eng</td>\n",
       "      <td>342</td>\n",
       "      <td>38</td>\n",
       "      <td>4</td>\n",
       "      <td>1/15/1999</td>\n",
       "      <td>Huntington House Publishers</td>\n",
       "      <td>NaN</td>\n",
       "    </tr>\n",
       "    <tr>\n",
       "      <th>8979</th>\n",
       "      <td>0.00</td>\n",
       "      <td>0851742718</td>\n",
       "      <td>9780851742717</td>\n",
       "      <td>eng</td>\n",
       "      <td>49</td>\n",
       "      <td>0</td>\n",
       "      <td>0</td>\n",
       "      <td>5/1/1977</td>\n",
       "      <td>Brown Son &amp; Ferguson Ltd.</td>\n",
       "      <td>NaN</td>\n",
       "    </tr>\n",
       "  </tbody>\n",
       "</table>\n",
       "</div>"
      ],
      "text/plain": [
       "     average_rating        isbn         isbn13 language_code  num_pages  \\\n",
       "3348           3.58  0674842111  9780674842113         en-US        236   \n",
       "4702           3.58  1593600119  9781593600112           eng        400   \n",
       "5877           3.63  156384155X  9781563841552           eng        342   \n",
       "8979           0.00  0851742718  9780851742717           eng         49   \n",
       "\n",
       "      ratings_count text_reviews_count publication_date  \\\n",
       "3348             61                  6        4/20/2004   \n",
       "4702             26                  4         4/6/2004   \n",
       "5877             38                  4        1/15/1999   \n",
       "8979              0                  0         5/1/1977   \n",
       "\n",
       "                        publisher coauthor  \n",
       "3348     Harvard University Press      NaN  \n",
       "4702          Cold Spring Press\\t      NaN  \n",
       "5877  Huntington House Publishers      NaN  \n",
       "8979    Brown Son & Ferguson Ltd.      NaN  "
      ]
     },
     "execution_count": 51,
     "metadata": {},
     "output_type": "execute_result"
    }
   ],
   "source": [
    "right"
   ]
  },
  {
   "cell_type": "markdown",
   "id": "55e9ba7f",
   "metadata": {},
   "source": [
    "We will combine them. and call it clean. "
   ]
  },
  {
   "cell_type": "code",
   "execution_count": 52,
   "id": "bf91e038",
   "metadata": {},
   "outputs": [],
   "source": [
    "clean = pd.concat([left,  right, coauthor], axis=1)"
   ]
  },
  {
   "cell_type": "code",
   "execution_count": 53,
   "id": "0483499d",
   "metadata": {},
   "outputs": [],
   "source": [
    "clean = clean.drop(columns= ['coauthor'])"
   ]
  },
  {
   "cell_type": "code",
   "execution_count": 54,
   "id": "32cdd91b",
   "metadata": {},
   "outputs": [
    {
     "data": {
      "text/html": [
       "<div>\n",
       "<style scoped>\n",
       "    .dataframe tbody tr th:only-of-type {\n",
       "        vertical-align: middle;\n",
       "    }\n",
       "\n",
       "    .dataframe tbody tr th {\n",
       "        vertical-align: top;\n",
       "    }\n",
       "\n",
       "    .dataframe thead th {\n",
       "        text-align: right;\n",
       "    }\n",
       "</style>\n",
       "<table border=\"1\" class=\"dataframe\">\n",
       "  <thead>\n",
       "    <tr style=\"text-align: right;\">\n",
       "      <th></th>\n",
       "      <th>bookID</th>\n",
       "      <th>title</th>\n",
       "      <th>authors</th>\n",
       "      <th>average_rating</th>\n",
       "      <th>isbn</th>\n",
       "      <th>isbn13</th>\n",
       "      <th>language_code</th>\n",
       "      <th>num_pages</th>\n",
       "      <th>ratings_count</th>\n",
       "      <th>text_reviews_count</th>\n",
       "      <th>publication_date</th>\n",
       "      <th>publisher</th>\n",
       "      <th>author2</th>\n",
       "    </tr>\n",
       "  </thead>\n",
       "  <tbody>\n",
       "    <tr>\n",
       "      <th>3348</th>\n",
       "      <td>12224</td>\n",
       "      <td>Streetcar Suburbs: The Process of Growth in Bo...</td>\n",
       "      <td>Sam Bass Warner Jr./Sam B. Warner</td>\n",
       "      <td>3.58</td>\n",
       "      <td>0674842111</td>\n",
       "      <td>9780674842113</td>\n",
       "      <td>en-US</td>\n",
       "      <td>236</td>\n",
       "      <td>61</td>\n",
       "      <td>6</td>\n",
       "      <td>4/20/2004</td>\n",
       "      <td>Harvard University Press</td>\n",
       "      <td>Jr./Sam B. Warner</td>\n",
       "    </tr>\n",
       "    <tr>\n",
       "      <th>4702</th>\n",
       "      <td>16914</td>\n",
       "      <td>The Tolkien Fan's Medieval Reader</td>\n",
       "      <td>David E. Smith (Turgon of TheOneRing.net one o...</td>\n",
       "      <td>3.58</td>\n",
       "      <td>1593600119</td>\n",
       "      <td>9781593600112</td>\n",
       "      <td>eng</td>\n",
       "      <td>400</td>\n",
       "      <td>26</td>\n",
       "      <td>4</td>\n",
       "      <td>4/6/2004</td>\n",
       "      <td>Cold Spring Press\\t</td>\n",
       "      <td>one of the founding members of this Tolkien w...</td>\n",
       "    </tr>\n",
       "    <tr>\n",
       "      <th>5877</th>\n",
       "      <td>22128</td>\n",
       "      <td>Patriots (The Coming Collapse)</td>\n",
       "      <td>James Wesley Rawles</td>\n",
       "      <td>3.63</td>\n",
       "      <td>156384155X</td>\n",
       "      <td>9781563841552</td>\n",
       "      <td>eng</td>\n",
       "      <td>342</td>\n",
       "      <td>38</td>\n",
       "      <td>4</td>\n",
       "      <td>1/15/1999</td>\n",
       "      <td>Huntington House Publishers</td>\n",
       "      <td>Rawles</td>\n",
       "    </tr>\n",
       "    <tr>\n",
       "      <th>8979</th>\n",
       "      <td>34889</td>\n",
       "      <td>Brown's Star Atlas: Showing All The Bright Sta...</td>\n",
       "      <td>Brown Son &amp; Ferguson</td>\n",
       "      <td>0.00</td>\n",
       "      <td>0851742718</td>\n",
       "      <td>9780851742717</td>\n",
       "      <td>eng</td>\n",
       "      <td>49</td>\n",
       "      <td>0</td>\n",
       "      <td>0</td>\n",
       "      <td>5/1/1977</td>\n",
       "      <td>Brown Son &amp; Ferguson Ltd.</td>\n",
       "      <td>Son &amp; Ferguson</td>\n",
       "    </tr>\n",
       "  </tbody>\n",
       "</table>\n",
       "</div>"
      ],
      "text/plain": [
       "      bookID                                              title  \\\n",
       "3348   12224  Streetcar Suburbs: The Process of Growth in Bo...   \n",
       "4702   16914                  The Tolkien Fan's Medieval Reader   \n",
       "5877   22128                     Patriots (The Coming Collapse)   \n",
       "8979   34889  Brown's Star Atlas: Showing All The Bright Sta...   \n",
       "\n",
       "                                                authors average_rating  \\\n",
       "3348                  Sam Bass Warner Jr./Sam B. Warner           3.58   \n",
       "4702  David E. Smith (Turgon of TheOneRing.net one o...           3.58   \n",
       "5877                                James Wesley Rawles           3.63   \n",
       "8979                               Brown Son & Ferguson           0.00   \n",
       "\n",
       "            isbn         isbn13 language_code  num_pages  ratings_count  \\\n",
       "3348  0674842111  9780674842113         en-US        236             61   \n",
       "4702  1593600119  9781593600112           eng        400             26   \n",
       "5877  156384155X  9781563841552           eng        342             38   \n",
       "8979  0851742718  9780851742717           eng         49              0   \n",
       "\n",
       "     text_reviews_count publication_date                    publisher  \\\n",
       "3348                  6        4/20/2004     Harvard University Press   \n",
       "4702                  4         4/6/2004          Cold Spring Press\\t   \n",
       "5877                  4        1/15/1999  Huntington House Publishers   \n",
       "8979                  0         5/1/1977    Brown Son & Ferguson Ltd.   \n",
       "\n",
       "                                                author2  \n",
       "3348                                  Jr./Sam B. Warner  \n",
       "4702   one of the founding members of this Tolkien w...  \n",
       "5877                                             Rawles  \n",
       "8979                                     Son & Ferguson  "
      ]
     },
     "execution_count": 54,
     "metadata": {},
     "output_type": "execute_result"
    }
   ],
   "source": [
    "clean"
   ]
  },
  {
   "cell_type": "markdown",
   "id": "4092efd8",
   "metadata": {},
   "source": [
    "We will replace the dirty rows with this newly created clean data frame. "
   ]
  },
  {
   "cell_type": "code",
   "execution_count": 55,
   "id": "22afb386",
   "metadata": {},
   "outputs": [],
   "source": [
    "df.loc[clean.index, :] = clean"
   ]
  },
  {
   "cell_type": "markdown",
   "id": "41ae9fe1",
   "metadata": {},
   "source": [
    "While examining the dataset, we found out that for the 4 rows under dicussion, there was a shift of data by 1 column. This means that some of the authors had shifted to the 'Average Rating' column. The average ratings for the respective rows had shifted to the 'ISBN' column and so forth. Hence, we had a 13th column which had publishers' name due to this data shift.\n",
    "\n",
    "We have corrected this above and the dataframe 'df' is now clean."
   ]
  },
  {
   "cell_type": "markdown",
   "id": "5ecb1841",
   "metadata": {},
   "source": [
    "### 5. Removing the Columns"
   ]
  },
  {
   "cell_type": "markdown",
   "id": "30ffa013",
   "metadata": {},
   "source": [
    "We will remove 'coauthor', 'bookID', 'isbn', 'isbn13' as we will not consider them in building the Average Rating Prediction Model."
   ]
  },
  {
   "cell_type": "code",
   "execution_count": 57,
   "id": "2da9c632",
   "metadata": {},
   "outputs": [],
   "source": [
    "df = df.drop(columns= ['coauthor', 'bookID', 'isbn', 'isbn13'])"
   ]
  },
  {
   "cell_type": "code",
   "execution_count": 58,
   "id": "5548e85f",
   "metadata": {},
   "outputs": [
    {
     "name": "stdout",
     "output_type": "stream",
     "text": [
      "<class 'pandas.core.frame.DataFrame'>\n",
      "RangeIndex: 11127 entries, 0 to 11126\n",
      "Data columns (total 9 columns):\n",
      " #   Column              Non-Null Count  Dtype \n",
      "---  ------              --------------  ----- \n",
      " 0   title               11127 non-null  object\n",
      " 1   authors             11127 non-null  object\n",
      " 2   average_rating      11127 non-null  object\n",
      " 3   language_code       11127 non-null  object\n",
      " 4   num_pages           11127 non-null  object\n",
      " 5   ratings_count       11127 non-null  int64 \n",
      " 6   text_reviews_count  11127 non-null  object\n",
      " 7   publication_date    11127 non-null  object\n",
      " 8   publisher           11127 non-null  object\n",
      "dtypes: int64(1), object(8)\n",
      "memory usage: 782.5+ KB\n"
     ]
    }
   ],
   "source": [
    "df.info()"
   ]
  },
  {
   "cell_type": "markdown",
   "id": "357b9efb",
   "metadata": {},
   "source": [
    "### 6. Changing the Data type of Variables"
   ]
  },
  {
   "cell_type": "markdown",
   "id": "f81e6fc6",
   "metadata": {},
   "source": [
    "After analysing, we noticed that the datatype of the quantitative/non-categorical variables such as average average_rating, num_pages, text_reviews_count is object. The publication_date which is a date is also object.\n",
    "\n",
    "For building a datset suitable for predictive modelling, we will change the data type of the variables to numeric."
   ]
  },
  {
   "cell_type": "code",
   "execution_count": 60,
   "id": "80142603",
   "metadata": {},
   "outputs": [],
   "source": [
    "#Changing the data type of the variables to Float/Int\n",
    "df['average_rating'] = df['average_rating'].astype(np.float32)\n",
    "df['num_pages'] = df['num_pages'].astype(np.int32)\n",
    "df['ratings_count'] = df['ratings_count'].astype(np.int32)\n",
    "df['text_reviews_count'] = df['text_reviews_count'].astype(np.int32)"
   ]
  },
  {
   "cell_type": "code",
   "execution_count": 61,
   "id": "301dc39d",
   "metadata": {},
   "outputs": [
    {
     "name": "stdout",
     "output_type": "stream",
     "text": [
      "<class 'pandas.core.frame.DataFrame'>\n",
      "RangeIndex: 11127 entries, 0 to 11126\n",
      "Data columns (total 9 columns):\n",
      " #   Column              Non-Null Count  Dtype  \n",
      "---  ------              --------------  -----  \n",
      " 0   title               11127 non-null  object \n",
      " 1   authors             11127 non-null  object \n",
      " 2   average_rating      11127 non-null  float32\n",
      " 3   language_code       11127 non-null  object \n",
      " 4   num_pages           11127 non-null  int32  \n",
      " 5   ratings_count       11127 non-null  int32  \n",
      " 6   text_reviews_count  11127 non-null  int32  \n",
      " 7   publication_date    11127 non-null  object \n",
      " 8   publisher           11127 non-null  object \n",
      "dtypes: float32(1), int32(3), object(5)\n",
      "memory usage: 608.6+ KB\n"
     ]
    }
   ],
   "source": [
    "df.info()"
   ]
  },
  {
   "cell_type": "markdown",
   "id": "741ea505",
   "metadata": {},
   "source": [
    "Checking if the data is clean and there are no unwanted data and columns"
   ]
  },
  {
   "cell_type": "code",
   "execution_count": 62,
   "id": "72933868",
   "metadata": {},
   "outputs": [
    {
     "data": {
      "text/plain": [
       "title                 Streetcar Suburbs: The Process of Growth in Bo...\n",
       "authors                               Sam Bass Warner Jr./Sam B. Warner\n",
       "average_rating                                                     3.58\n",
       "language_code                                                     en-US\n",
       "num_pages                                                           236\n",
       "ratings_count                                                        61\n",
       "text_reviews_count                                                    6\n",
       "publication_date                                              4/20/2004\n",
       "publisher                                      Harvard University Press\n",
       "Name: 3348, dtype: object"
      ]
     },
     "execution_count": 62,
     "metadata": {},
     "output_type": "execute_result"
    }
   ],
   "source": [
    "df.iloc[3348, :]"
   ]
  },
  {
   "cell_type": "markdown",
   "id": "ad55bbec",
   "metadata": {},
   "source": [
    "### 7. Converting Dates"
   ]
  },
  {
   "cell_type": "markdown",
   "id": "c72ff79c",
   "metadata": {},
   "source": [
    "In this section, we convert the data type of publication date to datetime as the name of the variable suggests. However, during analysis, it was detected that 2 dates were unfeasible. For example: November and June had 31 days instead of 30. We corrected the respective dates and assumed that it will be the 30th day of the month under consideration."
   ]
  },
  {
   "cell_type": "code",
   "execution_count": 68,
   "id": "f56e6325",
   "metadata": {},
   "outputs": [],
   "source": [
    "dates = pd.to_datetime(df.publication_date, format=\"%m/%d/%Y\", errors=\"coerce\")"
   ]
  },
  {
   "cell_type": "code",
   "execution_count": 69,
   "id": "f6febb68",
   "metadata": {},
   "outputs": [
    {
     "data": {
      "text/plain": [
       "8180    NaT\n",
       "11098   NaT\n",
       "Name: publication_date, dtype: datetime64[ns]"
      ]
     },
     "execution_count": 69,
     "metadata": {},
     "output_type": "execute_result"
    }
   ],
   "source": [
    "dates[dates.isnull()]"
   ]
  },
  {
   "cell_type": "markdown",
   "id": "b1ae7a79",
   "metadata": {},
   "source": [
    "The following 2 rows contain values that are not feasible dates as June and November does not have 31 days"
   ]
  },
  {
   "cell_type": "code",
   "execution_count": 70,
   "id": "2db6b55f",
   "metadata": {},
   "outputs": [
    {
     "data": {
      "text/plain": [
       "'11/31/2000'"
      ]
     },
     "execution_count": 70,
     "metadata": {},
     "output_type": "execute_result"
    }
   ],
   "source": [
    "#1\n",
    "df.publication_date[8180]"
   ]
  },
  {
   "cell_type": "code",
   "execution_count": 71,
   "id": "42e59ac5",
   "metadata": {},
   "outputs": [
    {
     "data": {
      "text/plain": [
       "'6/31/1982'"
      ]
     },
     "execution_count": 71,
     "metadata": {},
     "output_type": "execute_result"
    }
   ],
   "source": [
    "#2\n",
    "df.publication_date[11098]"
   ]
  },
  {
   "cell_type": "markdown",
   "id": "d7efe714",
   "metadata": {},
   "source": [
    "Correction the dates and parsing it"
   ]
  },
  {
   "cell_type": "code",
   "execution_count": 72,
   "id": "f58ea586",
   "metadata": {},
   "outputs": [],
   "source": [
    "df.iloc[8180, 7] = '11/30/2000' \n",
    "df.iloc[11098, 7] = '6/30/1982'\n",
    "\n",
    "df.publication_date = pd.to_datetime(df.publication_date, format=\"%m/%d/%Y\", errors=\"raise\")"
   ]
  },
  {
   "cell_type": "code",
   "execution_count": 73,
   "id": "23123b32",
   "metadata": {},
   "outputs": [
    {
     "name": "stdout",
     "output_type": "stream",
     "text": [
      "<class 'pandas.core.frame.DataFrame'>\n",
      "RangeIndex: 11127 entries, 0 to 11126\n",
      "Data columns (total 9 columns):\n",
      " #   Column              Non-Null Count  Dtype         \n",
      "---  ------              --------------  -----         \n",
      " 0   title               11127 non-null  object        \n",
      " 1   authors             11127 non-null  object        \n",
      " 2   average_rating      11127 non-null  float32       \n",
      " 3   language_code       11127 non-null  object        \n",
      " 4   num_pages           11127 non-null  int32         \n",
      " 5   ratings_count       11127 non-null  int32         \n",
      " 6   text_reviews_count  11127 non-null  int32         \n",
      " 7   publication_date    11127 non-null  datetime64[ns]\n",
      " 8   publisher           11127 non-null  object        \n",
      "dtypes: datetime64[ns](1), float32(1), int32(3), object(4)\n",
      "memory usage: 608.6+ KB\n"
     ]
    }
   ],
   "source": [
    "df.info()"
   ]
  },
  {
   "cell_type": "markdown",
   "id": "154c8563",
   "metadata": {},
   "source": [
    "### 8. Exploratory Data Analysis with Charts and Tables"
   ]
  },
  {
   "cell_type": "markdown",
   "id": "4eb0eea0",
   "metadata": {},
   "source": [
    "We analyze the data a bit more to understand the pattern and relationship between variables. This exploratory data analysis through charts and tables will help us gain valuable insights about the dataset."
   ]
  },
  {
   "cell_type": "code",
   "execution_count": 75,
   "id": "c1b003f5",
   "metadata": {},
   "outputs": [
    {
     "name": "stderr",
     "output_type": "stream",
     "text": [
      "C:\\Users\\lenovo\\anaconda3\\lib\\site-packages\\seaborn\\distributions.py:2619: FutureWarning: `distplot` is a deprecated function and will be removed in a future version. Please adapt your code to use either `displot` (a figure-level function with similar flexibility) or `histplot` (an axes-level function for histograms).\n",
      "  warnings.warn(msg, FutureWarning)\n"
     ]
    },
    {
     "data": {
      "image/png": "[encoded data removed]",
      "text/plain": [
       "<Figure size 500x500 with 1 Axes>"
      ]
     },
     "metadata": {},
     "output_type": "display_data"
    }
   ],
   "source": [
    "#Distribution Graph\n",
    "plt.figure(figsize=(5,5))\n",
    "rating= df.average_rating\n",
    "sns.distplot(rating, bins=20)\n",
    "plt.show()"
   ]
  },
  {
   "cell_type": "markdown",
   "id": "ecce770d",
   "metadata": {},
   "source": [
    "We see that the distribution curve for 'Average Rating' is negatively skewed. This implies that most of the average ratings are concentrated between 3 to 5. However, as per the above average rating of 5 is rare."
   ]
  },
  {
   "cell_type": "markdown",
   "id": "7da6a9dd",
   "metadata": {},
   "source": [
    "#### Books with the highest average rating of 5.0"
   ]
  },
  {
   "cell_type": "markdown",
   "id": "26246c68",
   "metadata": {},
   "source": [
    "Looking at the just the top 10 books doesnt make sense. As there are more than 10 books with highest average rating i.e 5.0. Let's pull out a list of books with the average rating of 5.0"
   ]
  },
  {
   "cell_type": "code",
   "execution_count": 77,
   "id": "3d1d02f1",
   "metadata": {},
   "outputs": [
    {
     "data": {
      "text/plain": [
       "count    11127.000000\n",
       "mean         3.933630\n",
       "std          0.352446\n",
       "min          0.000000\n",
       "25%          3.770000\n",
       "50%          3.960000\n",
       "75%          4.135000\n",
       "max          5.000000\n",
       "Name: average_rating, dtype: float64"
      ]
     },
     "execution_count": 77,
     "metadata": {},
     "output_type": "execute_result"
    }
   ],
   "source": [
    "# Let's look at the top 10 rated books\n",
    "df.sort_values('average_rating',ascending=False)\n",
    "#Check the max average rating\n",
    "df[\"average_rating\"].describe()"
   ]
  },
  {
   "cell_type": "markdown",
   "id": "0f44682d",
   "metadata": {},
   "source": [
    "Here, we see for books the maximum average rating is 5.0. Now, we draw a list of the books with rating 5.0"
   ]
  },
  {
   "cell_type": "code",
   "execution_count": 78,
   "id": "60f79fc3",
   "metadata": {},
   "outputs": [
    {
     "data": {
      "text/html": [
       "<div>\n",
       "<style scoped>\n",
       "    .dataframe tbody tr th:only-of-type {\n",
       "        vertical-align: middle;\n",
       "    }\n",
       "\n",
       "    .dataframe tbody tr th {\n",
       "        vertical-align: top;\n",
       "    }\n",
       "\n",
       "    .dataframe thead th {\n",
       "        text-align: right;\n",
       "    }\n",
       "</style>\n",
       "<table border=\"1\" class=\"dataframe\">\n",
       "  <thead>\n",
       "    <tr style=\"text-align: right;\">\n",
       "      <th></th>\n",
       "      <th>index</th>\n",
       "      <th>title</th>\n",
       "    </tr>\n",
       "  </thead>\n",
       "  <tbody>\n",
       "    <tr>\n",
       "      <th>0</th>\n",
       "      <td>10266</td>\n",
       "      <td>Bill Gates: Computer Legend (Famous Lives)</td>\n",
       "    </tr>\n",
       "    <tr>\n",
       "      <th>1</th>\n",
       "      <td>4935</td>\n",
       "      <td>Bulgakov's the Master and Margarita: The Text ...</td>\n",
       "    </tr>\n",
       "    <tr>\n",
       "      <th>2</th>\n",
       "      <td>5650</td>\n",
       "      <td>Colossians and Philemon: A Critical and Exeget...</td>\n",
       "    </tr>\n",
       "    <tr>\n",
       "      <th>3</th>\n",
       "      <td>624</td>\n",
       "      <td>Comoediae 1: Acharenses/Equites/Nubes/Vespae/P...</td>\n",
       "    </tr>\n",
       "    <tr>\n",
       "      <th>4</th>\n",
       "      <td>6778</td>\n",
       "      <td>Delwau Duon: Peintiadau Nicholas Evans = Symph...</td>\n",
       "    </tr>\n",
       "    <tr>\n",
       "      <th>5</th>\n",
       "      <td>8547</td>\n",
       "      <td>Fanning the Flame: Bible  Cross  and Mission</td>\n",
       "    </tr>\n",
       "    <tr>\n",
       "      <th>6</th>\n",
       "      <td>9897</td>\n",
       "      <td>His Princess Devotional: A Royal Encounter Wit...</td>\n",
       "    </tr>\n",
       "    <tr>\n",
       "      <th>7</th>\n",
       "      <td>855</td>\n",
       "      <td>Literature Circle Guide: Bridge to Terabithia:...</td>\n",
       "    </tr>\n",
       "    <tr>\n",
       "      <th>8</th>\n",
       "      <td>1243</td>\n",
       "      <td>Middlesex Borough (Images of America: New Jersey)</td>\n",
       "    </tr>\n",
       "    <tr>\n",
       "      <th>9</th>\n",
       "      <td>9286</td>\n",
       "      <td>Oliver Wendell Holmes in Paris: Medicine  Theo...</td>\n",
       "    </tr>\n",
       "    <tr>\n",
       "      <th>10</th>\n",
       "      <td>6187</td>\n",
       "      <td>Taxation of Mineral Rents</td>\n",
       "    </tr>\n",
       "    <tr>\n",
       "      <th>11</th>\n",
       "      <td>9851</td>\n",
       "      <td>The American Campaign: U.S. Presidential Campa...</td>\n",
       "    </tr>\n",
       "    <tr>\n",
       "      <th>12</th>\n",
       "      <td>5025</td>\n",
       "      <td>The Complete Theory Fun Factory: Music Theory ...</td>\n",
       "    </tr>\n",
       "    <tr>\n",
       "      <th>13</th>\n",
       "      <td>4790</td>\n",
       "      <td>The Diamond Color Meditation: Color Pathway to...</td>\n",
       "    </tr>\n",
       "    <tr>\n",
       "      <th>14</th>\n",
       "      <td>5478</td>\n",
       "      <td>The Goon Show  Volume 11: He's Fallen in the W...</td>\n",
       "    </tr>\n",
       "    <tr>\n",
       "      <th>15</th>\n",
       "      <td>5476</td>\n",
       "      <td>The Goon Show  Volume 4: My Knees Have Fallen ...</td>\n",
       "    </tr>\n",
       "    <tr>\n",
       "      <th>16</th>\n",
       "      <td>9724</td>\n",
       "      <td>The Irish Anatomist: A Study of Flann O'Brien</td>\n",
       "    </tr>\n",
       "    <tr>\n",
       "      <th>17</th>\n",
       "      <td>6250</td>\n",
       "      <td>The New Big Book of America</td>\n",
       "    </tr>\n",
       "    <tr>\n",
       "      <th>18</th>\n",
       "      <td>9328</td>\n",
       "      <td>Tyrannosaurus Wrecks (Stanley  #1)</td>\n",
       "    </tr>\n",
       "    <tr>\n",
       "      <th>19</th>\n",
       "      <td>786</td>\n",
       "      <td>Willem de Kooning: Late Paintings</td>\n",
       "    </tr>\n",
       "    <tr>\n",
       "      <th>20</th>\n",
       "      <td>5649</td>\n",
       "      <td>Winchester Shotguns</td>\n",
       "    </tr>\n",
       "    <tr>\n",
       "      <th>21</th>\n",
       "      <td>4126</td>\n",
       "      <td>Zone of the Enders: The 2nd Runner Official St...</td>\n",
       "    </tr>\n",
       "  </tbody>\n",
       "</table>\n",
       "</div>"
      ],
      "text/plain": [
       "    index                                              title\n",
       "0   10266         Bill Gates: Computer Legend (Famous Lives)\n",
       "1    4935  Bulgakov's the Master and Margarita: The Text ...\n",
       "2    5650  Colossians and Philemon: A Critical and Exeget...\n",
       "3     624  Comoediae 1: Acharenses/Equites/Nubes/Vespae/P...\n",
       "4    6778  Delwau Duon: Peintiadau Nicholas Evans = Symph...\n",
       "5    8547       Fanning the Flame: Bible  Cross  and Mission\n",
       "6    9897  His Princess Devotional: A Royal Encounter Wit...\n",
       "7     855  Literature Circle Guide: Bridge to Terabithia:...\n",
       "8    1243  Middlesex Borough (Images of America: New Jersey)\n",
       "9    9286  Oliver Wendell Holmes in Paris: Medicine  Theo...\n",
       "10   6187                          Taxation of Mineral Rents\n",
       "11   9851  The American Campaign: U.S. Presidential Campa...\n",
       "12   5025  The Complete Theory Fun Factory: Music Theory ...\n",
       "13   4790  The Diamond Color Meditation: Color Pathway to...\n",
       "14   5478  The Goon Show  Volume 11: He's Fallen in the W...\n",
       "15   5476  The Goon Show  Volume 4: My Knees Have Fallen ...\n",
       "16   9724      The Irish Anatomist: A Study of Flann O'Brien\n",
       "17   6250                        The New Big Book of America\n",
       "18   9328                 Tyrannosaurus Wrecks (Stanley  #1)\n",
       "19    786                  Willem de Kooning: Late Paintings\n",
       "20   5649                                Winchester Shotguns\n",
       "21   4126  Zone of the Enders: The 2nd Runner Official St..."
      ]
     },
     "execution_count": 78,
     "metadata": {},
     "output_type": "execute_result"
    }
   ],
   "source": [
    "books_highAverageRating=df.loc[(df.loc[:,'average_rating']==5),'title']\n",
    "list_book=pd.DataFrame(books_highAverageRating).sort_values('title')\n",
    "list_book.reset_index()"
   ]
  },
  {
   "cell_type": "markdown",
   "id": "553783d2",
   "metadata": {},
   "source": [
    "There are 22 books with maximum average rating (5.0)."
   ]
  },
  {
   "cell_type": "markdown",
   "id": "015c9e42",
   "metadata": {},
   "source": [
    "#### Lets find out the Top 20 most read books based on ratings count -The Popular Books among readers"
   ]
  },
  {
   "cell_type": "code",
   "execution_count": 79,
   "id": "4db82e1b",
   "metadata": {},
   "outputs": [
    {
     "data": {
      "image/png": "[encoded data removed]",
      "text/plain": [
       "<Figure size 1500x1000 with 1 Axes>"
      ]
     },
     "metadata": {},
     "output_type": "display_data"
    }
   ],
   "source": [
    "# Let's look at the top 20 rated books\n",
    "top_20 = df.sort_values('ratings_count', ascending=False).head(20).set_index('title')\n",
    "\n",
    "plt.figure(figsize=(15,10))\n",
    "sns.barplot(x=top_20['ratings_count'], y=top_20.index, palette='rocket').set(title='Top 20 Popular Books among Readers');"
   ]
  },
  {
   "cell_type": "markdown",
   "id": "6e53034d",
   "metadata": {},
   "source": [
    "Its interesting to note that the list of popular books 20 based on ratings count is completely different from the list of books that have the higest average rating of 5.0. Let's check what is the average rating of the above 20 books"
   ]
  },
  {
   "cell_type": "code",
   "execution_count": 80,
   "id": "b123971e",
   "metadata": {},
   "outputs": [
    {
     "data": {
      "image/png": "[encoded data removed]",
      "text/plain": [
       "<Figure size 640x480 with 1 Axes>"
      ]
     },
     "metadata": {},
     "output_type": "display_data"
    }
   ],
   "source": [
    "#Scatter plot for Average Ratinga and Ratings Count of Top 20 Popular Books\n",
    "top_20.plot.scatter(x='average_rating', y='ratings_count', title='Average Rating vs Rating Counts of Popular Books');"
   ]
  },
  {
   "cell_type": "markdown",
   "id": "2a93bb41",
   "metadata": {},
   "source": [
    "1e6 represents million. The popular books have a comparatively high rating ranging between 3.6 to 4.6."
   ]
  },
  {
   "cell_type": "markdown",
   "id": "dc98e3b0",
   "metadata": {},
   "source": [
    "#### The language distribution of the books"
   ]
  },
  {
   "cell_type": "markdown",
   "id": "914cd72a",
   "metadata": {},
   "source": [
    "In the pie chart provided below, we try to understand what are the top 5 languages in which the books in the dataset are published."
   ]
  },
  {
   "cell_type": "code",
   "execution_count": 82,
   "id": "8b812836",
   "metadata": {},
   "outputs": [
    {
     "data": {
      "text/plain": [
       "27"
      ]
     },
     "execution_count": 82,
     "metadata": {},
     "output_type": "execute_result"
    }
   ],
   "source": [
    "#Number of language codes in the dataset for the books\n",
    "len(list(set(df.language_code)))"
   ]
  },
  {
   "cell_type": "code",
   "execution_count": 83,
   "id": "fddebeb0",
   "metadata": {},
   "outputs": [],
   "source": [
    "#Replace all english related language(en-US,en-GB,en-CA,enm) with one global code:eng\n",
    "df['language_code']=df['language_code'].replace(['en-US','en-GB','en-CA','eng','enm'], 'eng')"
   ]
  },
  {
   "cell_type": "code",
   "execution_count": 84,
   "id": "3a4a6fdd",
   "metadata": {},
   "outputs": [
    {
     "data": {
      "text/plain": [
       "array(['ale', 'ara', 'eng', 'fre', 'ger', 'gla', 'glg', 'grc', 'ita',\n",
       "       'jpn', 'lat', 'msa', 'mul', 'nl', 'nor', 'por', 'rus', 'spa',\n",
       "       'srp', 'swe', 'tur', 'wel', 'zho'], dtype=object)"
      ]
     },
     "execution_count": 84,
     "metadata": {},
     "output_type": "execute_result"
    }
   ],
   "source": [
    "np.unique(df.language_code)"
   ]
  },
  {
   "cell_type": "code",
   "execution_count": 85,
   "id": "482ef739",
   "metadata": {},
   "outputs": [],
   "source": [
    "language=df.language_code.value_counts()"
   ]
  },
  {
   "cell_type": "code",
   "execution_count": 86,
   "id": "758ca6bd",
   "metadata": {},
   "outputs": [
    {
     "data": {
      "image/png": "[encoded data removed]",
      "text/plain": [
       "<Figure size 500x500 with 1 Axes>"
      ]
     },
     "metadata": {},
     "output_type": "display_data"
    }
   ],
   "source": [
    "#Languages to keep\n",
    "sorted_languages = language.index.tolist()\n",
    "top_5_lang=sorted_languages[:5]\n",
    "top_5_lang\n",
    "\n",
    "#Other languages\n",
    "other_languages=language.loc[~language.index.isin(top_5_lang)].sum()\n",
    "\n",
    "#Create a new series with the top languages and others\n",
    "selected_languages = pd.Series(data=language.loc[top_5_lang].tolist() + [other_languages],\n",
    "                               index=top_5_lang + ['Others'])\n",
    "\n",
    "#Plotting the above language data on a pie chart\n",
    "# Create the pie chart\n",
    "plt.figure(figsize=(5,5))\n",
    "lang_legend=['English','Spanish','French','German','Japanese', 'Others']\n",
    "patches, _, autotexts = plt.pie(selected_languages, labels=None, autopct='', startangle=90)\n",
    "plt.title('Language Distribution')\n",
    "plt.axis('equal')  # Equal aspect ratio ensures that pie is drawn as a circle.\n",
    "\n",
    "# Create a custom legend with percentage values\n",
    "percentage_labels = [f'{p:.1f}% {label}' for p, label in zip(selected_languages / selected_languages.sum() * 100, selected_languages.index)]\n",
    "plt.legend(patches, percentage_labels, loc='lower right')\n",
    "\n",
    "# Display the pie chart\n",
    "plt.show()"
   ]
  },
  {
   "cell_type": "markdown",
   "id": "99e92ba3",
   "metadata": {},
   "source": [
    "Approximately, 95% of the books in the dataset are in English. The other top languages in which the books were published are Spanish(spa), French(fre), German(ger), Japanese(jpn)."
   ]
  },
  {
   "cell_type": "markdown",
   "id": "bba51d9a",
   "metadata": {},
   "source": [
    "#### It will be interesting to find out, in which year maximum books were published."
   ]
  },
  {
   "cell_type": "markdown",
   "id": "0630f924",
   "metadata": {},
   "source": [
    "The hypothesis here is that with the onset of digitization and internet availability now with a major section of the population, can we conclude that less books are demanded and hence published? This may be because a certain section of the population consider watching television, films as a mean of recreation. Before digitization, when availability of television was less or could be purchased by only the elite class, people resorted to books maybe more as a mean of recreation. Through this data can we gain any such insight. Let's check:"
   ]
  },
  {
   "cell_type": "code",
   "execution_count": 87,
   "id": "97e56f45",
   "metadata": {},
   "outputs": [
    {
     "data": {
      "image/png": "[encoded data removed]",
      "text/plain": [
       "<Figure size 500x500 with 1 Axes>"
      ]
     },
     "metadata": {},
     "output_type": "display_data"
    }
   ],
   "source": [
    "# Extract the year from the 'date' column\n",
    "df['year'] = df['publication_date'].dt.year\n",
    "\n",
    "books_published_per_year = df.groupby('year').size()\n",
    "\n",
    "# Create the line graph\n",
    "plt.figure(figsize=(5,5))\n",
    "books_published_per_year.plot(kind='line', marker='o')\n",
    "plt.xlabel('Year')\n",
    "plt.ylabel('Number of Books Published')\n",
    "plt.title('Number of Books Published Year-wise')\n",
    "plt.grid()\n",
    "plt.show()"
   ]
  },
  {
   "cell_type": "markdown",
   "id": "014bf2fd",
   "metadata": {},
   "source": [
    "So here we see, maximum of the books present in the dataset was published between 2005 -2006."
   ]
  },
  {
   "cell_type": "markdown",
   "id": "47d4749e",
   "metadata": {},
   "source": [
    "According to our dataset, the hypothesis above was incorrect. From the above graph, we can deduce that from 1900 till 1980, the books were published at a steady rate. The very low number for books published between 1900-1960 can be attributed to loss of data for many reasons. The number of books published started increasing from ~1980. It was the highest between 2005-2006. But suddenly saw a sharp drop after that. This can be because of a shift in demand preference from the books to OTT platforms. A lot of leisure book readers preferred to watch a series or movie on Netflix, Amazon Prime / Hulu than read books."
   ]
  },
  {
   "cell_type": "markdown",
   "id": "3ce6a25d",
   "metadata": {},
   "source": [
    "#### In the following graph, we analyze that how the average ratings have fluctuated over the years"
   ]
  },
  {
   "cell_type": "code",
   "execution_count": 88,
   "id": "8d42cfec",
   "metadata": {},
   "outputs": [],
   "source": [
    "over_years = df.groupby(pd.Grouper(key='publication_date', axis=0, freq='1Y')).mean().fillna(0).loc[:, 'average_rating']"
   ]
  },
  {
   "cell_type": "code",
   "execution_count": 89,
   "id": "bfa70695",
   "metadata": {},
   "outputs": [
    {
     "data": {
      "text/plain": [
       "<AxesSubplot:xlabel='publication_date'>"
      ]
     },
     "execution_count": 89,
     "metadata": {},
     "output_type": "execute_result"
    },
    {
     "data": {
      "image/png": "[encoded data removed]",
      "text/plain": [
       "<Figure size 640x480 with 1 Axes>"
      ]
     },
     "metadata": {},
     "output_type": "display_data"
    }
   ],
   "source": [
    "over_years.plot()"
   ]
  },
  {
   "cell_type": "code",
   "execution_count": null,
   "id": "13eb34c2",
   "metadata": {},
   "outputs": [],
   "source": []
  }
 ],
 "metadata": {
  "kernelspec": {
   "display_name": "Python 3 (ipykernel)",
   "language": "python",
   "name": "python3"
  },
  "language_info": {
   "codemirror_mode": {
    "name": "ipython",
    "version": 3
   },
   "file_extension": ".py",
   "mimetype": "text/x-python",
   "name": "python",
   "nbconvert_exporter": "python",
   "pygments_lexer": "ipython3",
   "version": "3.9.13"
  }
 },
 "nbformat": 4,
 "nbformat_minor": 5
}
